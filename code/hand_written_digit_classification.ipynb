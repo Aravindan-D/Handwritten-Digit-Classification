{
  "nbformat": 4,
  "nbformat_minor": 0,
  "metadata": {
    "colab": {
      "name": "k nearest.ipynb",
      "provenance": [],
      "toc_visible": true
    },
    "kernelspec": {
      "name": "python3",
      "display_name": "Python 3"
    },
    "language_info": {
      "name": "python"
    }
  },
  "cells": [
    {
      "cell_type": "markdown",
      "source": [
        "####preprocessing\n"
      ],
      "metadata": {
        "id": "hix5Y7vHUtsD"
      }
    },
    {
      "cell_type": "code",
      "execution_count": null,
      "metadata": {
        "id": "LhpVxcnw9JLi"
      },
      "outputs": [],
      "source": [
        "import pandas as pd\n",
        "import numpy as np\n",
        "import seaborn as sns\n",
        "import matplotlib.pyplot as plt"
      ]
    },
    {
      "cell_type": "markdown",
      "source": [
        "The dataset was taken from the UCI machine learning repository in the name of \n",
        "Pen-Based Recognition of Handwritten Digits Data Set."
      ],
      "metadata": {
        "id": "DTNSuuYp2IwI"
      }
    },
    {
      "cell_type": "code",
      "source": [
        "  df=pd.read_csv('/content/penbased-5an-nn.csv')"
      ],
      "metadata": {
        "id": "C-ReExwaAMc_"
      },
      "execution_count": null,
      "outputs": []
    },
    {
      "cell_type": "code",
      "source": [
        "df.head()"
      ],
      "metadata": {
        "colab": {
          "base_uri": "https://localhost:8080/",
          "height": 206
        },
        "id": "K1_x0saSAMh1",
        "outputId": "fb967807-22f9-49f5-f897-bcdf23b8ee8b"
      },
      "execution_count": null,
      "outputs": [
        {
          "output_type": "execute_result",
          "data": {
            "text/html": [
              "\n",
              "  <div id=\"df-80d83f90-7395-45c9-b767-adfb6c6d112b\">\n",
              "    <div class=\"colab-df-container\">\n",
              "      <div>\n",
              "<style scoped>\n",
              "    .dataframe tbody tr th:only-of-type {\n",
              "        vertical-align: middle;\n",
              "    }\n",
              "\n",
              "    .dataframe tbody tr th {\n",
              "        vertical-align: top;\n",
              "    }\n",
              "\n",
              "    .dataframe thead th {\n",
              "        text-align: right;\n",
              "    }\n",
              "</style>\n",
              "<table border=\"1\" class=\"dataframe\">\n",
              "  <thead>\n",
              "    <tr style=\"text-align: right;\">\n",
              "      <th></th>\n",
              "      <th>0</th>\n",
              "      <th>57</th>\n",
              "      <th>31</th>\n",
              "      <th>68</th>\n",
              "      <th>72</th>\n",
              "      <th>90</th>\n",
              "      <th>100</th>\n",
              "      <th>100.1</th>\n",
              "      <th>76</th>\n",
              "      <th>75</th>\n",
              "      <th>50</th>\n",
              "      <th>51</th>\n",
              "      <th>28</th>\n",
              "      <th>25</th>\n",
              "      <th>16</th>\n",
              "      <th>0</th>\n",
              "      <th>1</th>\n",
              "    </tr>\n",
              "  </thead>\n",
              "  <tbody>\n",
              "    <tr>\n",
              "      <th>0</th>\n",
              "      <td>99</td>\n",
              "      <td>80</td>\n",
              "      <td>63</td>\n",
              "      <td>100</td>\n",
              "      <td>25</td>\n",
              "      <td>76</td>\n",
              "      <td>79</td>\n",
              "      <td>68</td>\n",
              "      <td>100</td>\n",
              "      <td>62</td>\n",
              "      <td>97</td>\n",
              "      <td>23</td>\n",
              "      <td>54</td>\n",
              "      <td>0</td>\n",
              "      <td>0</td>\n",
              "      <td>16</td>\n",
              "      <td>9</td>\n",
              "    </tr>\n",
              "    <tr>\n",
              "      <th>1</th>\n",
              "      <td>0</td>\n",
              "      <td>73</td>\n",
              "      <td>19</td>\n",
              "      <td>99</td>\n",
              "      <td>72</td>\n",
              "      <td>100</td>\n",
              "      <td>70</td>\n",
              "      <td>73</td>\n",
              "      <td>32</td>\n",
              "      <td>48</td>\n",
              "      <td>5</td>\n",
              "      <td>18</td>\n",
              "      <td>46</td>\n",
              "      <td>0</td>\n",
              "      <td>100</td>\n",
              "      <td>72</td>\n",
              "      <td>2</td>\n",
              "    </tr>\n",
              "    <tr>\n",
              "      <th>2</th>\n",
              "      <td>12</td>\n",
              "      <td>77</td>\n",
              "      <td>20</td>\n",
              "      <td>62</td>\n",
              "      <td>78</td>\n",
              "      <td>40</td>\n",
              "      <td>50</td>\n",
              "      <td>0</td>\n",
              "      <td>1</td>\n",
              "      <td>17</td>\n",
              "      <td>0</td>\n",
              "      <td>64</td>\n",
              "      <td>23</td>\n",
              "      <td>98</td>\n",
              "      <td>100</td>\n",
              "      <td>100</td>\n",
              "      <td>5</td>\n",
              "    </tr>\n",
              "    <tr>\n",
              "      <th>3</th>\n",
              "      <td>0</td>\n",
              "      <td>98</td>\n",
              "      <td>36</td>\n",
              "      <td>42</td>\n",
              "      <td>80</td>\n",
              "      <td>85</td>\n",
              "      <td>68</td>\n",
              "      <td>42</td>\n",
              "      <td>56</td>\n",
              "      <td>0</td>\n",
              "      <td>25</td>\n",
              "      <td>23</td>\n",
              "      <td>50</td>\n",
              "      <td>37</td>\n",
              "      <td>100</td>\n",
              "      <td>32</td>\n",
              "      <td>7</td>\n",
              "    </tr>\n",
              "    <tr>\n",
              "      <th>4</th>\n",
              "      <td>29</td>\n",
              "      <td>91</td>\n",
              "      <td>6</td>\n",
              "      <td>57</td>\n",
              "      <td>66</td>\n",
              "      <td>39</td>\n",
              "      <td>30</td>\n",
              "      <td>0</td>\n",
              "      <td>81</td>\n",
              "      <td>19</td>\n",
              "      <td>3</td>\n",
              "      <td>72</td>\n",
              "      <td>39</td>\n",
              "      <td>97</td>\n",
              "      <td>100</td>\n",
              "      <td>100</td>\n",
              "      <td>5</td>\n",
              "    </tr>\n",
              "  </tbody>\n",
              "</table>\n",
              "</div>\n",
              "      <button class=\"colab-df-convert\" onclick=\"convertToInteractive('df-80d83f90-7395-45c9-b767-adfb6c6d112b')\"\n",
              "              title=\"Convert this dataframe to an interactive table.\"\n",
              "              style=\"display:none;\">\n",
              "        \n",
              "  <svg xmlns=\"http://www.w3.org/2000/svg\" height=\"24px\"viewBox=\"0 0 24 24\"\n",
              "       width=\"24px\">\n",
              "    <path d=\"M0 0h24v24H0V0z\" fill=\"none\"/>\n",
              "    <path d=\"M18.56 5.44l.94 2.06.94-2.06 2.06-.94-2.06-.94-.94-2.06-.94 2.06-2.06.94zm-11 1L8.5 8.5l.94-2.06 2.06-.94-2.06-.94L8.5 2.5l-.94 2.06-2.06.94zm10 10l.94 2.06.94-2.06 2.06-.94-2.06-.94-.94-2.06-.94 2.06-2.06.94z\"/><path d=\"M17.41 7.96l-1.37-1.37c-.4-.4-.92-.59-1.43-.59-.52 0-1.04.2-1.43.59L10.3 9.45l-7.72 7.72c-.78.78-.78 2.05 0 2.83L4 21.41c.39.39.9.59 1.41.59.51 0 1.02-.2 1.41-.59l7.78-7.78 2.81-2.81c.8-.78.8-2.07 0-2.86zM5.41 20L4 18.59l7.72-7.72 1.47 1.35L5.41 20z\"/>\n",
              "  </svg>\n",
              "      </button>\n",
              "      \n",
              "  <style>\n",
              "    .colab-df-container {\n",
              "      display:flex;\n",
              "      flex-wrap:wrap;\n",
              "      gap: 12px;\n",
              "    }\n",
              "\n",
              "    .colab-df-convert {\n",
              "      background-color: #E8F0FE;\n",
              "      border: none;\n",
              "      border-radius: 50%;\n",
              "      cursor: pointer;\n",
              "      display: none;\n",
              "      fill: #1967D2;\n",
              "      height: 32px;\n",
              "      padding: 0 0 0 0;\n",
              "      width: 32px;\n",
              "    }\n",
              "\n",
              "    .colab-df-convert:hover {\n",
              "      background-color: #E2EBFA;\n",
              "      box-shadow: 0px 1px 2px rgba(60, 64, 67, 0.3), 0px 1px 3px 1px rgba(60, 64, 67, 0.15);\n",
              "      fill: #174EA6;\n",
              "    }\n",
              "\n",
              "    [theme=dark] .colab-df-convert {\n",
              "      background-color: #3B4455;\n",
              "      fill: #D2E3FC;\n",
              "    }\n",
              "\n",
              "    [theme=dark] .colab-df-convert:hover {\n",
              "      background-color: #434B5C;\n",
              "      box-shadow: 0px 1px 3px 1px rgba(0, 0, 0, 0.15);\n",
              "      filter: drop-shadow(0px 1px 2px rgba(0, 0, 0, 0.3));\n",
              "      fill: #FFFFFF;\n",
              "    }\n",
              "  </style>\n",
              "\n",
              "      <script>\n",
              "        const buttonEl =\n",
              "          document.querySelector('#df-80d83f90-7395-45c9-b767-adfb6c6d112b button.colab-df-convert');\n",
              "        buttonEl.style.display =\n",
              "          google.colab.kernel.accessAllowed ? 'block' : 'none';\n",
              "\n",
              "        async function convertToInteractive(key) {\n",
              "          const element = document.querySelector('#df-80d83f90-7395-45c9-b767-adfb6c6d112b');\n",
              "          const dataTable =\n",
              "            await google.colab.kernel.invokeFunction('convertToInteractive',\n",
              "                                                     [key], {});\n",
              "          if (!dataTable) return;\n",
              "\n",
              "          const docLinkHtml = 'Like what you see? Visit the ' +\n",
              "            '<a target=\"_blank\" href=https://colab.research.google.com/notebooks/data_table.ipynb>data table notebook</a>'\n",
              "            + ' to learn more about interactive tables.';\n",
              "          element.innerHTML = '';\n",
              "          dataTable['output_type'] = 'display_data';\n",
              "          await google.colab.output.renderOutput(dataTable, element);\n",
              "          const docLink = document.createElement('div');\n",
              "          docLink.innerHTML = docLinkHtml;\n",
              "          element.appendChild(docLink);\n",
              "        }\n",
              "      </script>\n",
              "    </div>\n",
              "  </div>\n",
              "  "
            ],
            "text/plain": [
              "    0   57   31   68   72   90   100  ...   50   51   28   25   16    0   1\n",
              "0  99   80   63  100   25   76    79  ...   97   23   54    0    0   16   9\n",
              "1   0   73   19   99   72  100    70  ...    5   18   46    0  100   72   2\n",
              "2  12   77   20   62   78   40    50  ...    0   64   23   98  100  100   5\n",
              "3   0   98   36   42   80   85    68  ...   25   23   50   37  100   32   7\n",
              "4  29   91    6   57   66   39    30  ...    3   72   39   97  100  100   5\n",
              "\n",
              "[5 rows x 17 columns]"
            ]
          },
          "metadata": {},
          "execution_count": 151
        }
      ]
    },
    {
      "cell_type": "markdown",
      "source": [
        " It describes the shape of the dataset it has 10991 instances and 17 features"
      ],
      "metadata": {
        "id": "xNu-qbjY2_cM"
      }
    },
    {
      "cell_type": "code",
      "source": [
        "df.shape"
      ],
      "metadata": {
        "colab": {
          "base_uri": "https://localhost:8080/"
        },
        "id": "9FliNXX0AMlH",
        "outputId": "38ffa378-cd4d-40f5-c249-f39d22a1e1f7"
      },
      "execution_count": null,
      "outputs": [
        {
          "output_type": "execute_result",
          "data": {
            "text/plain": [
              "(10991, 17)"
            ]
          },
          "metadata": {},
          "execution_count": 152
        }
      ]
    },
    {
      "cell_type": "markdown",
      "source": [
        "The below line shows that all the features are perfectly balanced and no null values "
      ],
      "metadata": {
        "id": "eDE0UeVE3FG_"
      }
    },
    {
      "cell_type": "code",
      "source": [
        "df.info()"
      ],
      "metadata": {
        "colab": {
          "base_uri": "https://localhost:8080/"
        },
        "id": "kYJsaJ-ZAMq-",
        "outputId": "51459b61-1dcf-4a27-b7b1-112b02eb09b4"
      },
      "execution_count": null,
      "outputs": [
        {
          "output_type": "stream",
          "name": "stdout",
          "text": [
            "<class 'pandas.core.frame.DataFrame'>\n",
            "RangeIndex: 10991 entries, 0 to 10990\n",
            "Data columns (total 17 columns):\n",
            " #   Column  Non-Null Count  Dtype\n",
            "---  ------  --------------  -----\n",
            " 0   0       10991 non-null  int64\n",
            " 1    57     10991 non-null  int64\n",
            " 2    31     10991 non-null  int64\n",
            " 3    68     10991 non-null  int64\n",
            " 4    72     10991 non-null  int64\n",
            " 5    90     10991 non-null  int64\n",
            " 6    100    10991 non-null  int64\n",
            " 7    100.1  10991 non-null  int64\n",
            " 8    76     10991 non-null  int64\n",
            " 9    75     10991 non-null  int64\n",
            " 10   50     10991 non-null  int64\n",
            " 11   51     10991 non-null  int64\n",
            " 12   28     10991 non-null  int64\n",
            " 13   25     10991 non-null  int64\n",
            " 14   16     10991 non-null  int64\n",
            " 15   0      10991 non-null  int64\n",
            " 16   1      10991 non-null  int64\n",
            "dtypes: int64(17)\n",
            "memory usage: 1.4 MB\n"
          ]
        }
      ]
    },
    {
      "cell_type": "markdown",
      "source": [
        "This shows that the number to be predicted are only from 0-9.\n",
        "And all the features are equaly contributed for the prediction"
      ],
      "metadata": {
        "id": "sh1zeQ_P3i7s"
      }
    },
    {
      "cell_type": "code",
      "source": [
        "df.describe()"
      ],
      "metadata": {
        "colab": {
          "base_uri": "https://localhost:8080/",
          "height": 364
        },
        "id": "dC5Fw6-kAMtm",
        "outputId": "8bc93894-e865-42ec-8914-12182387933a"
      },
      "execution_count": null,
      "outputs": [
        {
          "output_type": "execute_result",
          "data": {
            "text/html": [
              "\n",
              "  <div id=\"df-6a6809fe-c934-428f-bb33-1de58275120c\">\n",
              "    <div class=\"colab-df-container\">\n",
              "      <div>\n",
              "<style scoped>\n",
              "    .dataframe tbody tr th:only-of-type {\n",
              "        vertical-align: middle;\n",
              "    }\n",
              "\n",
              "    .dataframe tbody tr th {\n",
              "        vertical-align: top;\n",
              "    }\n",
              "\n",
              "    .dataframe thead th {\n",
              "        text-align: right;\n",
              "    }\n",
              "</style>\n",
              "<table border=\"1\" class=\"dataframe\">\n",
              "  <thead>\n",
              "    <tr style=\"text-align: right;\">\n",
              "      <th></th>\n",
              "      <th>0</th>\n",
              "      <th>57</th>\n",
              "      <th>31</th>\n",
              "      <th>68</th>\n",
              "      <th>72</th>\n",
              "      <th>90</th>\n",
              "      <th>100</th>\n",
              "      <th>100.1</th>\n",
              "      <th>76</th>\n",
              "      <th>75</th>\n",
              "      <th>50</th>\n",
              "      <th>51</th>\n",
              "      <th>28</th>\n",
              "      <th>25</th>\n",
              "      <th>16</th>\n",
              "      <th>0</th>\n",
              "      <th>1</th>\n",
              "    </tr>\n",
              "  </thead>\n",
              "  <tbody>\n",
              "    <tr>\n",
              "      <th>count</th>\n",
              "      <td>10991.000000</td>\n",
              "      <td>10991.000000</td>\n",
              "      <td>10991.000000</td>\n",
              "      <td>10991.000000</td>\n",
              "      <td>10991.000000</td>\n",
              "      <td>10991.000000</td>\n",
              "      <td>10991.000000</td>\n",
              "      <td>10991.000000</td>\n",
              "      <td>10991.000000</td>\n",
              "      <td>10991.000000</td>\n",
              "      <td>10991.000000</td>\n",
              "      <td>10991.000000</td>\n",
              "      <td>10991.000000</td>\n",
              "      <td>10991.000000</td>\n",
              "      <td>10991.000000</td>\n",
              "      <td>10991.000000</td>\n",
              "      <td>10991.000000</td>\n",
              "    </tr>\n",
              "    <tr>\n",
              "      <th>mean</th>\n",
              "      <td>39.508871</td>\n",
              "      <td>83.221545</td>\n",
              "      <td>41.047402</td>\n",
              "      <td>82.075789</td>\n",
              "      <td>49.762351</td>\n",
              "      <td>64.790738</td>\n",
              "      <td>51.256937</td>\n",
              "      <td>44.672550</td>\n",
              "      <td>56.447457</td>\n",
              "      <td>34.553362</td>\n",
              "      <td>60.087799</td>\n",
              "      <td>35.705031</td>\n",
              "      <td>54.604495</td>\n",
              "      <td>35.654990</td>\n",
              "      <td>47.384678</td>\n",
              "      <td>29.787644</td>\n",
              "      <td>4.431899</td>\n",
              "    </tr>\n",
              "    <tr>\n",
              "      <th>std</th>\n",
              "      <td>34.184852</td>\n",
              "      <td>19.043429</td>\n",
              "      <td>26.652911</td>\n",
              "      <td>21.033956</td>\n",
              "      <td>33.840402</td>\n",
              "      <td>27.323980</td>\n",
              "      <td>30.510892</td>\n",
              "      <td>29.880944</td>\n",
              "      <td>33.935001</td>\n",
              "      <td>27.597455</td>\n",
              "      <td>36.955062</td>\n",
              "      <td>27.482024</td>\n",
              "      <td>22.819212</td>\n",
              "      <td>33.128173</td>\n",
              "      <td>41.268168</td>\n",
              "      <td>35.722195</td>\n",
              "      <td>2.876891</td>\n",
              "    </tr>\n",
              "    <tr>\n",
              "      <th>min</th>\n",
              "      <td>0.000000</td>\n",
              "      <td>0.000000</td>\n",
              "      <td>0.000000</td>\n",
              "      <td>0.000000</td>\n",
              "      <td>0.000000</td>\n",
              "      <td>0.000000</td>\n",
              "      <td>0.000000</td>\n",
              "      <td>0.000000</td>\n",
              "      <td>0.000000</td>\n",
              "      <td>0.000000</td>\n",
              "      <td>0.000000</td>\n",
              "      <td>0.000000</td>\n",
              "      <td>0.000000</td>\n",
              "      <td>0.000000</td>\n",
              "      <td>0.000000</td>\n",
              "      <td>0.000000</td>\n",
              "      <td>0.000000</td>\n",
              "    </tr>\n",
              "    <tr>\n",
              "      <th>25%</th>\n",
              "      <td>7.000000</td>\n",
              "      <td>75.000000</td>\n",
              "      <td>20.000000</td>\n",
              "      <td>70.000000</td>\n",
              "      <td>18.000000</td>\n",
              "      <td>48.000000</td>\n",
              "      <td>28.000000</td>\n",
              "      <td>23.000000</td>\n",
              "      <td>28.000000</td>\n",
              "      <td>8.000000</td>\n",
              "      <td>24.000000</td>\n",
              "      <td>12.000000</td>\n",
              "      <td>41.000000</td>\n",
              "      <td>6.000000</td>\n",
              "      <td>0.000000</td>\n",
              "      <td>0.000000</td>\n",
              "      <td>2.000000</td>\n",
              "    </tr>\n",
              "    <tr>\n",
              "      <th>50%</th>\n",
              "      <td>33.000000</td>\n",
              "      <td>88.000000</td>\n",
              "      <td>40.000000</td>\n",
              "      <td>89.000000</td>\n",
              "      <td>53.000000</td>\n",
              "      <td>70.000000</td>\n",
              "      <td>54.000000</td>\n",
              "      <td>43.000000</td>\n",
              "      <td>59.000000</td>\n",
              "      <td>34.000000</td>\n",
              "      <td>72.000000</td>\n",
              "      <td>31.000000</td>\n",
              "      <td>53.000000</td>\n",
              "      <td>28.000000</td>\n",
              "      <td>41.000000</td>\n",
              "      <td>11.000000</td>\n",
              "      <td>4.000000</td>\n",
              "    </tr>\n",
              "    <tr>\n",
              "      <th>75%</th>\n",
              "      <td>66.000000</td>\n",
              "      <td>100.000000</td>\n",
              "      <td>59.000000</td>\n",
              "      <td>100.000000</td>\n",
              "      <td>78.000000</td>\n",
              "      <td>86.000000</td>\n",
              "      <td>74.000000</td>\n",
              "      <td>64.500000</td>\n",
              "      <td>88.000000</td>\n",
              "      <td>55.000000</td>\n",
              "      <td>96.000000</td>\n",
              "      <td>57.000000</td>\n",
              "      <td>68.000000</td>\n",
              "      <td>51.000000</td>\n",
              "      <td>100.000000</td>\n",
              "      <td>55.000000</td>\n",
              "      <td>7.000000</td>\n",
              "    </tr>\n",
              "    <tr>\n",
              "      <th>max</th>\n",
              "      <td>100.000000</td>\n",
              "      <td>100.000000</td>\n",
              "      <td>100.000000</td>\n",
              "      <td>100.000000</td>\n",
              "      <td>100.000000</td>\n",
              "      <td>100.000000</td>\n",
              "      <td>100.000000</td>\n",
              "      <td>100.000000</td>\n",
              "      <td>100.000000</td>\n",
              "      <td>100.000000</td>\n",
              "      <td>100.000000</td>\n",
              "      <td>100.000000</td>\n",
              "      <td>100.000000</td>\n",
              "      <td>100.000000</td>\n",
              "      <td>100.000000</td>\n",
              "      <td>100.000000</td>\n",
              "      <td>9.000000</td>\n",
              "    </tr>\n",
              "  </tbody>\n",
              "</table>\n",
              "</div>\n",
              "      <button class=\"colab-df-convert\" onclick=\"convertToInteractive('df-6a6809fe-c934-428f-bb33-1de58275120c')\"\n",
              "              title=\"Convert this dataframe to an interactive table.\"\n",
              "              style=\"display:none;\">\n",
              "        \n",
              "  <svg xmlns=\"http://www.w3.org/2000/svg\" height=\"24px\"viewBox=\"0 0 24 24\"\n",
              "       width=\"24px\">\n",
              "    <path d=\"M0 0h24v24H0V0z\" fill=\"none\"/>\n",
              "    <path d=\"M18.56 5.44l.94 2.06.94-2.06 2.06-.94-2.06-.94-.94-2.06-.94 2.06-2.06.94zm-11 1L8.5 8.5l.94-2.06 2.06-.94-2.06-.94L8.5 2.5l-.94 2.06-2.06.94zm10 10l.94 2.06.94-2.06 2.06-.94-2.06-.94-.94-2.06-.94 2.06-2.06.94z\"/><path d=\"M17.41 7.96l-1.37-1.37c-.4-.4-.92-.59-1.43-.59-.52 0-1.04.2-1.43.59L10.3 9.45l-7.72 7.72c-.78.78-.78 2.05 0 2.83L4 21.41c.39.39.9.59 1.41.59.51 0 1.02-.2 1.41-.59l7.78-7.78 2.81-2.81c.8-.78.8-2.07 0-2.86zM5.41 20L4 18.59l7.72-7.72 1.47 1.35L5.41 20z\"/>\n",
              "  </svg>\n",
              "      </button>\n",
              "      \n",
              "  <style>\n",
              "    .colab-df-container {\n",
              "      display:flex;\n",
              "      flex-wrap:wrap;\n",
              "      gap: 12px;\n",
              "    }\n",
              "\n",
              "    .colab-df-convert {\n",
              "      background-color: #E8F0FE;\n",
              "      border: none;\n",
              "      border-radius: 50%;\n",
              "      cursor: pointer;\n",
              "      display: none;\n",
              "      fill: #1967D2;\n",
              "      height: 32px;\n",
              "      padding: 0 0 0 0;\n",
              "      width: 32px;\n",
              "    }\n",
              "\n",
              "    .colab-df-convert:hover {\n",
              "      background-color: #E2EBFA;\n",
              "      box-shadow: 0px 1px 2px rgba(60, 64, 67, 0.3), 0px 1px 3px 1px rgba(60, 64, 67, 0.15);\n",
              "      fill: #174EA6;\n",
              "    }\n",
              "\n",
              "    [theme=dark] .colab-df-convert {\n",
              "      background-color: #3B4455;\n",
              "      fill: #D2E3FC;\n",
              "    }\n",
              "\n",
              "    [theme=dark] .colab-df-convert:hover {\n",
              "      background-color: #434B5C;\n",
              "      box-shadow: 0px 1px 3px 1px rgba(0, 0, 0, 0.15);\n",
              "      filter: drop-shadow(0px 1px 2px rgba(0, 0, 0, 0.3));\n",
              "      fill: #FFFFFF;\n",
              "    }\n",
              "  </style>\n",
              "\n",
              "      <script>\n",
              "        const buttonEl =\n",
              "          document.querySelector('#df-6a6809fe-c934-428f-bb33-1de58275120c button.colab-df-convert');\n",
              "        buttonEl.style.display =\n",
              "          google.colab.kernel.accessAllowed ? 'block' : 'none';\n",
              "\n",
              "        async function convertToInteractive(key) {\n",
              "          const element = document.querySelector('#df-6a6809fe-c934-428f-bb33-1de58275120c');\n",
              "          const dataTable =\n",
              "            await google.colab.kernel.invokeFunction('convertToInteractive',\n",
              "                                                     [key], {});\n",
              "          if (!dataTable) return;\n",
              "\n",
              "          const docLinkHtml = 'Like what you see? Visit the ' +\n",
              "            '<a target=\"_blank\" href=https://colab.research.google.com/notebooks/data_table.ipynb>data table notebook</a>'\n",
              "            + ' to learn more about interactive tables.';\n",
              "          element.innerHTML = '';\n",
              "          dataTable['output_type'] = 'display_data';\n",
              "          await google.colab.output.renderOutput(dataTable, element);\n",
              "          const docLink = document.createElement('div');\n",
              "          docLink.innerHTML = docLinkHtml;\n",
              "          element.appendChild(docLink);\n",
              "        }\n",
              "      </script>\n",
              "    </div>\n",
              "  </div>\n",
              "  "
            ],
            "text/plain": [
              "                  0            57  ...             0             1\n",
              "count  10991.000000  10991.000000  ...  10991.000000  10991.000000\n",
              "mean      39.508871     83.221545  ...     29.787644      4.431899\n",
              "std       34.184852     19.043429  ...     35.722195      2.876891\n",
              "min        0.000000      0.000000  ...      0.000000      0.000000\n",
              "25%        7.000000     75.000000  ...      0.000000      2.000000\n",
              "50%       33.000000     88.000000  ...     11.000000      4.000000\n",
              "75%       66.000000    100.000000  ...     55.000000      7.000000\n",
              "max      100.000000    100.000000  ...    100.000000      9.000000\n",
              "\n",
              "[8 rows x 17 columns]"
            ]
          },
          "metadata": {},
          "execution_count": 154
        }
      ]
    },
    {
      "cell_type": "markdown",
      "source": [
        "creating a variable X for  training the model with Independent variables"
      ],
      "metadata": {
        "id": "Z30-nElc4d7V"
      }
    },
    {
      "cell_type": "code",
      "source": [
        "\n",
        "x=df.iloc[:,:-1]"
      ],
      "metadata": {
        "id": "ocxxfNEfAM0e"
      },
      "execution_count": null,
      "outputs": []
    },
    {
      "cell_type": "code",
      "source": [
        "x.head()"
      ],
      "metadata": {
        "colab": {
          "base_uri": "https://localhost:8080/",
          "height": 206
        },
        "id": "NaEd3_fwAM5n",
        "outputId": "38e2ee42-95e2-467a-f99a-61aa38a1e282"
      },
      "execution_count": null,
      "outputs": [
        {
          "output_type": "execute_result",
          "data": {
            "text/html": [
              "\n",
              "  <div id=\"df-f3b59ec5-4724-44ec-a0aa-c265b046ec84\">\n",
              "    <div class=\"colab-df-container\">\n",
              "      <div>\n",
              "<style scoped>\n",
              "    .dataframe tbody tr th:only-of-type {\n",
              "        vertical-align: middle;\n",
              "    }\n",
              "\n",
              "    .dataframe tbody tr th {\n",
              "        vertical-align: top;\n",
              "    }\n",
              "\n",
              "    .dataframe thead th {\n",
              "        text-align: right;\n",
              "    }\n",
              "</style>\n",
              "<table border=\"1\" class=\"dataframe\">\n",
              "  <thead>\n",
              "    <tr style=\"text-align: right;\">\n",
              "      <th></th>\n",
              "      <th>0</th>\n",
              "      <th>57</th>\n",
              "      <th>31</th>\n",
              "      <th>68</th>\n",
              "      <th>72</th>\n",
              "      <th>90</th>\n",
              "      <th>100</th>\n",
              "      <th>100.1</th>\n",
              "      <th>76</th>\n",
              "      <th>75</th>\n",
              "      <th>50</th>\n",
              "      <th>51</th>\n",
              "      <th>28</th>\n",
              "      <th>25</th>\n",
              "      <th>16</th>\n",
              "      <th>0</th>\n",
              "    </tr>\n",
              "  </thead>\n",
              "  <tbody>\n",
              "    <tr>\n",
              "      <th>0</th>\n",
              "      <td>99</td>\n",
              "      <td>80</td>\n",
              "      <td>63</td>\n",
              "      <td>100</td>\n",
              "      <td>25</td>\n",
              "      <td>76</td>\n",
              "      <td>79</td>\n",
              "      <td>68</td>\n",
              "      <td>100</td>\n",
              "      <td>62</td>\n",
              "      <td>97</td>\n",
              "      <td>23</td>\n",
              "      <td>54</td>\n",
              "      <td>0</td>\n",
              "      <td>0</td>\n",
              "      <td>16</td>\n",
              "    </tr>\n",
              "    <tr>\n",
              "      <th>1</th>\n",
              "      <td>0</td>\n",
              "      <td>73</td>\n",
              "      <td>19</td>\n",
              "      <td>99</td>\n",
              "      <td>72</td>\n",
              "      <td>100</td>\n",
              "      <td>70</td>\n",
              "      <td>73</td>\n",
              "      <td>32</td>\n",
              "      <td>48</td>\n",
              "      <td>5</td>\n",
              "      <td>18</td>\n",
              "      <td>46</td>\n",
              "      <td>0</td>\n",
              "      <td>100</td>\n",
              "      <td>72</td>\n",
              "    </tr>\n",
              "    <tr>\n",
              "      <th>2</th>\n",
              "      <td>12</td>\n",
              "      <td>77</td>\n",
              "      <td>20</td>\n",
              "      <td>62</td>\n",
              "      <td>78</td>\n",
              "      <td>40</td>\n",
              "      <td>50</td>\n",
              "      <td>0</td>\n",
              "      <td>1</td>\n",
              "      <td>17</td>\n",
              "      <td>0</td>\n",
              "      <td>64</td>\n",
              "      <td>23</td>\n",
              "      <td>98</td>\n",
              "      <td>100</td>\n",
              "      <td>100</td>\n",
              "    </tr>\n",
              "    <tr>\n",
              "      <th>3</th>\n",
              "      <td>0</td>\n",
              "      <td>98</td>\n",
              "      <td>36</td>\n",
              "      <td>42</td>\n",
              "      <td>80</td>\n",
              "      <td>85</td>\n",
              "      <td>68</td>\n",
              "      <td>42</td>\n",
              "      <td>56</td>\n",
              "      <td>0</td>\n",
              "      <td>25</td>\n",
              "      <td>23</td>\n",
              "      <td>50</td>\n",
              "      <td>37</td>\n",
              "      <td>100</td>\n",
              "      <td>32</td>\n",
              "    </tr>\n",
              "    <tr>\n",
              "      <th>4</th>\n",
              "      <td>29</td>\n",
              "      <td>91</td>\n",
              "      <td>6</td>\n",
              "      <td>57</td>\n",
              "      <td>66</td>\n",
              "      <td>39</td>\n",
              "      <td>30</td>\n",
              "      <td>0</td>\n",
              "      <td>81</td>\n",
              "      <td>19</td>\n",
              "      <td>3</td>\n",
              "      <td>72</td>\n",
              "      <td>39</td>\n",
              "      <td>97</td>\n",
              "      <td>100</td>\n",
              "      <td>100</td>\n",
              "    </tr>\n",
              "  </tbody>\n",
              "</table>\n",
              "</div>\n",
              "      <button class=\"colab-df-convert\" onclick=\"convertToInteractive('df-f3b59ec5-4724-44ec-a0aa-c265b046ec84')\"\n",
              "              title=\"Convert this dataframe to an interactive table.\"\n",
              "              style=\"display:none;\">\n",
              "        \n",
              "  <svg xmlns=\"http://www.w3.org/2000/svg\" height=\"24px\"viewBox=\"0 0 24 24\"\n",
              "       width=\"24px\">\n",
              "    <path d=\"M0 0h24v24H0V0z\" fill=\"none\"/>\n",
              "    <path d=\"M18.56 5.44l.94 2.06.94-2.06 2.06-.94-2.06-.94-.94-2.06-.94 2.06-2.06.94zm-11 1L8.5 8.5l.94-2.06 2.06-.94-2.06-.94L8.5 2.5l-.94 2.06-2.06.94zm10 10l.94 2.06.94-2.06 2.06-.94-2.06-.94-.94-2.06-.94 2.06-2.06.94z\"/><path d=\"M17.41 7.96l-1.37-1.37c-.4-.4-.92-.59-1.43-.59-.52 0-1.04.2-1.43.59L10.3 9.45l-7.72 7.72c-.78.78-.78 2.05 0 2.83L4 21.41c.39.39.9.59 1.41.59.51 0 1.02-.2 1.41-.59l7.78-7.78 2.81-2.81c.8-.78.8-2.07 0-2.86zM5.41 20L4 18.59l7.72-7.72 1.47 1.35L5.41 20z\"/>\n",
              "  </svg>\n",
              "      </button>\n",
              "      \n",
              "  <style>\n",
              "    .colab-df-container {\n",
              "      display:flex;\n",
              "      flex-wrap:wrap;\n",
              "      gap: 12px;\n",
              "    }\n",
              "\n",
              "    .colab-df-convert {\n",
              "      background-color: #E8F0FE;\n",
              "      border: none;\n",
              "      border-radius: 50%;\n",
              "      cursor: pointer;\n",
              "      display: none;\n",
              "      fill: #1967D2;\n",
              "      height: 32px;\n",
              "      padding: 0 0 0 0;\n",
              "      width: 32px;\n",
              "    }\n",
              "\n",
              "    .colab-df-convert:hover {\n",
              "      background-color: #E2EBFA;\n",
              "      box-shadow: 0px 1px 2px rgba(60, 64, 67, 0.3), 0px 1px 3px 1px rgba(60, 64, 67, 0.15);\n",
              "      fill: #174EA6;\n",
              "    }\n",
              "\n",
              "    [theme=dark] .colab-df-convert {\n",
              "      background-color: #3B4455;\n",
              "      fill: #D2E3FC;\n",
              "    }\n",
              "\n",
              "    [theme=dark] .colab-df-convert:hover {\n",
              "      background-color: #434B5C;\n",
              "      box-shadow: 0px 1px 3px 1px rgba(0, 0, 0, 0.15);\n",
              "      filter: drop-shadow(0px 1px 2px rgba(0, 0, 0, 0.3));\n",
              "      fill: #FFFFFF;\n",
              "    }\n",
              "  </style>\n",
              "\n",
              "      <script>\n",
              "        const buttonEl =\n",
              "          document.querySelector('#df-f3b59ec5-4724-44ec-a0aa-c265b046ec84 button.colab-df-convert');\n",
              "        buttonEl.style.display =\n",
              "          google.colab.kernel.accessAllowed ? 'block' : 'none';\n",
              "\n",
              "        async function convertToInteractive(key) {\n",
              "          const element = document.querySelector('#df-f3b59ec5-4724-44ec-a0aa-c265b046ec84');\n",
              "          const dataTable =\n",
              "            await google.colab.kernel.invokeFunction('convertToInteractive',\n",
              "                                                     [key], {});\n",
              "          if (!dataTable) return;\n",
              "\n",
              "          const docLinkHtml = 'Like what you see? Visit the ' +\n",
              "            '<a target=\"_blank\" href=https://colab.research.google.com/notebooks/data_table.ipynb>data table notebook</a>'\n",
              "            + ' to learn more about interactive tables.';\n",
              "          element.innerHTML = '';\n",
              "          dataTable['output_type'] = 'display_data';\n",
              "          await google.colab.output.renderOutput(dataTable, element);\n",
              "          const docLink = document.createElement('div');\n",
              "          docLink.innerHTML = docLinkHtml;\n",
              "          element.appendChild(docLink);\n",
              "        }\n",
              "      </script>\n",
              "    </div>\n",
              "  </div>\n",
              "  "
            ],
            "text/plain": [
              "    0   57   31   68   72   90   100  ...   75   50   51   28   25   16    0\n",
              "0  99   80   63  100   25   76    79  ...   62   97   23   54    0    0   16\n",
              "1   0   73   19   99   72  100    70  ...   48    5   18   46    0  100   72\n",
              "2  12   77   20   62   78   40    50  ...   17    0   64   23   98  100  100\n",
              "3   0   98   36   42   80   85    68  ...    0   25   23   50   37  100   32\n",
              "4  29   91    6   57   66   39    30  ...   19    3   72   39   97  100  100\n",
              "\n",
              "[5 rows x 16 columns]"
            ]
          },
          "metadata": {},
          "execution_count": 156
        }
      ]
    },
    {
      "cell_type": "markdown",
      "source": [
        "creating a variable X for  training the model with Dependent variables"
      ],
      "metadata": {
        "id": "lMfvoyVQ4h1p"
      }
    },
    {
      "cell_type": "code",
      "source": [
        "\n",
        "y=df.iloc[:,-1]"
      ],
      "metadata": {
        "id": "68fl7b8cAM9X"
      },
      "execution_count": null,
      "outputs": []
    },
    {
      "cell_type": "code",
      "source": [
        "y.head()"
      ],
      "metadata": {
        "colab": {
          "base_uri": "https://localhost:8080/"
        },
        "id": "Roe6fTx-gIo8",
        "outputId": "a004f171-d731-4bb6-978f-a804d4ad86e3"
      },
      "execution_count": null,
      "outputs": [
        {
          "output_type": "execute_result",
          "data": {
            "text/plain": [
              "0    9\n",
              "1    2\n",
              "2    5\n",
              "3    7\n",
              "4    5\n",
              "Name:  1, dtype: int64"
            ]
          },
          "metadata": {},
          "execution_count": 158
        }
      ]
    },
    {
      "cell_type": "code",
      "source": [
        "x.shape"
      ],
      "metadata": {
        "colab": {
          "base_uri": "https://localhost:8080/"
        },
        "id": "OeHfcf6TiCiG",
        "outputId": "9af65972-002d-47f9-a807-ccd711d8d6ca"
      },
      "execution_count": null,
      "outputs": [
        {
          "output_type": "execute_result",
          "data": {
            "text/plain": [
              "(10991, 16)"
            ]
          },
          "metadata": {},
          "execution_count": 159
        }
      ]
    },
    {
      "cell_type": "markdown",
      "source": [
        "####PCA"
      ],
      "metadata": {
        "id": "_8VzGmniqI7U"
      }
    },
    {
      "cell_type": "markdown",
      "source": [
        ""
      ],
      "metadata": {
        "id": "fK6seeOIUrjz"
      }
    },
    {
      "cell_type": "markdown",
      "source": [
        "since the reperestion of number is in pixels some pixels may be unwanted so we are reducing those features with PCA of variance with 98%"
      ],
      "metadata": {
        "id": "SnazzOFK4nzv"
      }
    },
    {
      "cell_type": "code",
      "source": [
        "from sklearn.decomposition import PCA\n",
        "\n",
        "pca=PCA(0.98)\n",
        "x_pca=pca.fit_transform(x)"
      ],
      "metadata": {
        "id": "SgOsJ1-nh3p5"
      },
      "execution_count": null,
      "outputs": []
    },
    {
      "cell_type": "code",
      "source": [
        "pca.explained_variance_ratio_"
      ],
      "metadata": {
        "colab": {
          "base_uri": "https://localhost:8080/"
        },
        "id": "TqsaxpfKjNQD",
        "outputId": "1f3cf666-91fb-4533-c7a8-65351e78208d"
      },
      "execution_count": null,
      "outputs": [
        {
          "output_type": "execute_result",
          "data": {
            "text/plain": [
              "array([0.25986077, 0.22991379, 0.1442454 , 0.08807037, 0.05863174,\n",
              "       0.04921578, 0.03411854, 0.02987144, 0.02318881, 0.01970667,\n",
              "       0.01456311, 0.01280328, 0.01046417, 0.00979424])"
            ]
          },
          "metadata": {},
          "execution_count": 161
        }
      ]
    },
    {
      "cell_type": "code",
      "source": [
        "pca.n_components_"
      ],
      "metadata": {
        "colab": {
          "base_uri": "https://localhost:8080/"
        },
        "id": "aMYcfcSrjrQl",
        "outputId": "0efe1552-4ec1-4df5-ad8e-9e6b34107940"
      },
      "execution_count": null,
      "outputs": [
        {
          "output_type": "execute_result",
          "data": {
            "text/plain": [
              "14"
            ]
          },
          "metadata": {},
          "execution_count": 162
        }
      ]
    },
    {
      "cell_type": "code",
      "source": [
        "x_pca.shape"
      ],
      "metadata": {
        "colab": {
          "base_uri": "https://localhost:8080/"
        },
        "id": "cJnRLdLGnJOn",
        "outputId": "7241336f-566f-4986-b0aa-e515b0ac21e4"
      },
      "execution_count": null,
      "outputs": [
        {
          "output_type": "execute_result",
          "data": {
            "text/plain": [
              "(10991, 14)"
            ]
          },
          "metadata": {},
          "execution_count": 163
        }
      ]
    },
    {
      "cell_type": "code",
      "source": [
        "plot = plt.scatter(x_pca[:,0], x_pca[:,1], c=y)\n",
        "plt.legend(handles=plot.legend_elements()[0])\n",
        "plt.show()"
      ],
      "metadata": {
        "colab": {
          "base_uri": "https://localhost:8080/",
          "height": 265
        },
        "id": "BCzqmiHrld9_",
        "outputId": "90fa630b-2d52-42d0-b403-4f3224fb338e"
      },
      "execution_count": null,
      "outputs": [
        {
          "output_type": "display_data",
          "data": {
            "image/png": "[encoded data removed]",
            "text/plain": [
              "<Figure size 432x288 with 1 Axes>"
            ]
          },
          "metadata": {
            "needs_background": "light"
          }
        }
      ]
    },
    {
      "cell_type": "code",
      "source": [
        "x_pca= pd.DataFrame(x_pca)"
      ],
      "metadata": {
        "id": "Y5fJ4r-SoaAk"
      },
      "execution_count": null,
      "outputs": []
    },
    {
      "cell_type": "code",
      "source": [
        "x_pca.head()"
      ],
      "metadata": {
        "id": "C-hGATL4rQ_j",
        "colab": {
          "base_uri": "https://localhost:8080/",
          "height": 270
        },
        "outputId": "17ff9639-3129-4c6f-f3be-3f5db7a6b248"
      },
      "execution_count": null,
      "outputs": [
        {
          "output_type": "execute_result",
          "data": {
            "text/html": [
              "\n",
              "  <div id=\"df-b113ceae-27fd-4cec-b785-465c37beb8cb\">\n",
              "    <div class=\"colab-df-container\">\n",
              "      <div>\n",
              "<style scoped>\n",
              "    .dataframe tbody tr th:only-of-type {\n",
              "        vertical-align: middle;\n",
              "    }\n",
              "\n",
              "    .dataframe tbody tr th {\n",
              "        vertical-align: top;\n",
              "    }\n",
              "\n",
              "    .dataframe thead th {\n",
              "        text-align: right;\n",
              "    }\n",
              "</style>\n",
              "<table border=\"1\" class=\"dataframe\">\n",
              "  <thead>\n",
              "    <tr style=\"text-align: right;\">\n",
              "      <th></th>\n",
              "      <th>0</th>\n",
              "      <th>1</th>\n",
              "      <th>2</th>\n",
              "      <th>3</th>\n",
              "      <th>4</th>\n",
              "      <th>5</th>\n",
              "      <th>6</th>\n",
              "      <th>7</th>\n",
              "      <th>8</th>\n",
              "      <th>9</th>\n",
              "      <th>10</th>\n",
              "      <th>11</th>\n",
              "      <th>12</th>\n",
              "      <th>13</th>\n",
              "    </tr>\n",
              "  </thead>\n",
              "  <tbody>\n",
              "    <tr>\n",
              "      <th>0</th>\n",
              "      <td>-68.092095</td>\n",
              "      <td>71.511862</td>\n",
              "      <td>-28.250525</td>\n",
              "      <td>2.857626</td>\n",
              "      <td>51.933020</td>\n",
              "      <td>-3.631569</td>\n",
              "      <td>22.385768</td>\n",
              "      <td>-1.877478</td>\n",
              "      <td>-1.438700</td>\n",
              "      <td>6.622468</td>\n",
              "      <td>-10.411791</td>\n",
              "      <td>-7.405679</td>\n",
              "      <td>-10.955435</td>\n",
              "      <td>-12.672830</td>\n",
              "    </tr>\n",
              "    <tr>\n",
              "      <th>1</th>\n",
              "      <td>-14.121730</td>\n",
              "      <td>-96.754492</td>\n",
              "      <td>35.738662</td>\n",
              "      <td>-7.411084</td>\n",
              "      <td>5.324941</td>\n",
              "      <td>1.941331</td>\n",
              "      <td>20.703207</td>\n",
              "      <td>-34.878888</td>\n",
              "      <td>29.869702</td>\n",
              "      <td>-16.591385</td>\n",
              "      <td>1.314912</td>\n",
              "      <td>-28.783183</td>\n",
              "      <td>-23.951832</td>\n",
              "      <td>-5.470170</td>\n",
              "    </tr>\n",
              "    <tr>\n",
              "      <th>2</th>\n",
              "      <td>120.681711</td>\n",
              "      <td>-81.117678</td>\n",
              "      <td>42.087728</td>\n",
              "      <td>35.107335</td>\n",
              "      <td>-2.643157</td>\n",
              "      <td>24.068002</td>\n",
              "      <td>-10.484698</td>\n",
              "      <td>5.206642</td>\n",
              "      <td>7.004762</td>\n",
              "      <td>-10.175152</td>\n",
              "      <td>9.727073</td>\n",
              "      <td>10.235394</td>\n",
              "      <td>-13.152865</td>\n",
              "      <td>-2.620057</td>\n",
              "    </tr>\n",
              "    <tr>\n",
              "      <th>3</th>\n",
              "      <td>11.092642</td>\n",
              "      <td>-72.495060</td>\n",
              "      <td>35.726047</td>\n",
              "      <td>-4.658979</td>\n",
              "      <td>-7.722824</td>\n",
              "      <td>-20.520457</td>\n",
              "      <td>1.388278</td>\n",
              "      <td>9.018420</td>\n",
              "      <td>-6.117735</td>\n",
              "      <td>5.552435</td>\n",
              "      <td>35.418031</td>\n",
              "      <td>-4.049282</td>\n",
              "      <td>34.825862</td>\n",
              "      <td>12.914898</td>\n",
              "    </tr>\n",
              "    <tr>\n",
              "      <th>4</th>\n",
              "      <td>118.489829</td>\n",
              "      <td>-36.139713</td>\n",
              "      <td>50.510813</td>\n",
              "      <td>5.399568</td>\n",
              "      <td>20.674378</td>\n",
              "      <td>0.767574</td>\n",
              "      <td>3.606635</td>\n",
              "      <td>25.824870</td>\n",
              "      <td>9.661347</td>\n",
              "      <td>-21.431677</td>\n",
              "      <td>21.103967</td>\n",
              "      <td>-10.806619</td>\n",
              "      <td>-10.597196</td>\n",
              "      <td>47.529651</td>\n",
              "    </tr>\n",
              "  </tbody>\n",
              "</table>\n",
              "</div>\n",
              "      <button class=\"colab-df-convert\" onclick=\"convertToInteractive('df-b113ceae-27fd-4cec-b785-465c37beb8cb')\"\n",
              "              title=\"Convert this dataframe to an interactive table.\"\n",
              "              style=\"display:none;\">\n",
              "        \n",
              "  <svg xmlns=\"http://www.w3.org/2000/svg\" height=\"24px\"viewBox=\"0 0 24 24\"\n",
              "       width=\"24px\">\n",
              "    <path d=\"M0 0h24v24H0V0z\" fill=\"none\"/>\n",
              "    <path d=\"M18.56 5.44l.94 2.06.94-2.06 2.06-.94-2.06-.94-.94-2.06-.94 2.06-2.06.94zm-11 1L8.5 8.5l.94-2.06 2.06-.94-2.06-.94L8.5 2.5l-.94 2.06-2.06.94zm10 10l.94 2.06.94-2.06 2.06-.94-2.06-.94-.94-2.06-.94 2.06-2.06.94z\"/><path d=\"M17.41 7.96l-1.37-1.37c-.4-.4-.92-.59-1.43-.59-.52 0-1.04.2-1.43.59L10.3 9.45l-7.72 7.72c-.78.78-.78 2.05 0 2.83L4 21.41c.39.39.9.59 1.41.59.51 0 1.02-.2 1.41-.59l7.78-7.78 2.81-2.81c.8-.78.8-2.07 0-2.86zM5.41 20L4 18.59l7.72-7.72 1.47 1.35L5.41 20z\"/>\n",
              "  </svg>\n",
              "      </button>\n",
              "      \n",
              "  <style>\n",
              "    .colab-df-container {\n",
              "      display:flex;\n",
              "      flex-wrap:wrap;\n",
              "      gap: 12px;\n",
              "    }\n",
              "\n",
              "    .colab-df-convert {\n",
              "      background-color: #E8F0FE;\n",
              "      border: none;\n",
              "      border-radius: 50%;\n",
              "      cursor: pointer;\n",
              "      display: none;\n",
              "      fill: #1967D2;\n",
              "      height: 32px;\n",
              "      padding: 0 0 0 0;\n",
              "      width: 32px;\n",
              "    }\n",
              "\n",
              "    .colab-df-convert:hover {\n",
              "      background-color: #E2EBFA;\n",
              "      box-shadow: 0px 1px 2px rgba(60, 64, 67, 0.3), 0px 1px 3px 1px rgba(60, 64, 67, 0.15);\n",
              "      fill: #174EA6;\n",
              "    }\n",
              "\n",
              "    [theme=dark] .colab-df-convert {\n",
              "      background-color: #3B4455;\n",
              "      fill: #D2E3FC;\n",
              "    }\n",
              "\n",
              "    [theme=dark] .colab-df-convert:hover {\n",
              "      background-color: #434B5C;\n",
              "      box-shadow: 0px 1px 3px 1px rgba(0, 0, 0, 0.15);\n",
              "      filter: drop-shadow(0px 1px 2px rgba(0, 0, 0, 0.3));\n",
              "      fill: #FFFFFF;\n",
              "    }\n",
              "  </style>\n",
              "\n",
              "      <script>\n",
              "        const buttonEl =\n",
              "          document.querySelector('#df-b113ceae-27fd-4cec-b785-465c37beb8cb button.colab-df-convert');\n",
              "        buttonEl.style.display =\n",
              "          google.colab.kernel.accessAllowed ? 'block' : 'none';\n",
              "\n",
              "        async function convertToInteractive(key) {\n",
              "          const element = document.querySelector('#df-b113ceae-27fd-4cec-b785-465c37beb8cb');\n",
              "          const dataTable =\n",
              "            await google.colab.kernel.invokeFunction('convertToInteractive',\n",
              "                                                     [key], {});\n",
              "          if (!dataTable) return;\n",
              "\n",
              "          const docLinkHtml = 'Like what you see? Visit the ' +\n",
              "            '<a target=\"_blank\" href=https://colab.research.google.com/notebooks/data_table.ipynb>data table notebook</a>'\n",
              "            + ' to learn more about interactive tables.';\n",
              "          element.innerHTML = '';\n",
              "          dataTable['output_type'] = 'display_data';\n",
              "          await google.colab.output.renderOutput(dataTable, element);\n",
              "          const docLink = document.createElement('div');\n",
              "          docLink.innerHTML = docLinkHtml;\n",
              "          element.appendChild(docLink);\n",
              "        }\n",
              "      </script>\n",
              "    </div>\n",
              "  </div>\n",
              "  "
            ],
            "text/plain": [
              "           0          1          2   ...         11         12         13\n",
              "0  -68.092095  71.511862 -28.250525  ...  -7.405679 -10.955435 -12.672830\n",
              "1  -14.121730 -96.754492  35.738662  ... -28.783183 -23.951832  -5.470170\n",
              "2  120.681711 -81.117678  42.087728  ...  10.235394 -13.152865  -2.620057\n",
              "3   11.092642 -72.495060  35.726047  ...  -4.049282  34.825862  12.914898\n",
              "4  118.489829 -36.139713  50.510813  ... -10.806619 -10.597196  47.529651\n",
              "\n",
              "[5 rows x 14 columns]"
            ]
          },
          "metadata": {},
          "execution_count": 166
        }
      ]
    },
    {
      "cell_type": "markdown",
      "source": [
        "####standardaising the data"
      ],
      "metadata": {
        "id": "bQcyvc9IqSEx"
      }
    },
    {
      "cell_type": "markdown",
      "source": [
        "k-nearest neighbors is a distance based classifier.Standardization makes all variables to contribute equally to the similarity measures ."
      ],
      "metadata": {
        "id": "8JBfamAI5SgH"
      }
    },
    {
      "cell_type": "code",
      "source": [
        "from sklearn.preprocessing import StandardScaler\n",
        "scaler= StandardScaler()\n",
        "x_scaled_features=scaler.fit_transform(x)"
      ],
      "metadata": {
        "id": "dVt3OSPKANBH"
      },
      "execution_count": null,
      "outputs": []
    },
    {
      "cell_type": "code",
      "source": [
        "df_stand = pd.DataFrame(x_scaled_features,columns=x.columns)\n"
      ],
      "metadata": {
        "id": "nR9FrV2bpf_D"
      },
      "execution_count": null,
      "outputs": []
    },
    {
      "cell_type": "code",
      "source": [
        "df_stand.head()"
      ],
      "metadata": {
        "colab": {
          "base_uri": "https://localhost:8080/",
          "height": 270
        },
        "id": "OOxb4CW8p8ZI",
        "outputId": "70c037a1-d749-4178-a987-02d3a0481b41"
      },
      "execution_count": null,
      "outputs": [
        {
          "output_type": "execute_result",
          "data": {
            "text/html": [
              "\n",
              "  <div id=\"df-dfeac443-895c-4982-bae2-9d945fd87008\">\n",
              "    <div class=\"colab-df-container\">\n",
              "      <div>\n",
              "<style scoped>\n",
              "    .dataframe tbody tr th:only-of-type {\n",
              "        vertical-align: middle;\n",
              "    }\n",
              "\n",
              "    .dataframe tbody tr th {\n",
              "        vertical-align: top;\n",
              "    }\n",
              "\n",
              "    .dataframe thead th {\n",
              "        text-align: right;\n",
              "    }\n",
              "</style>\n",
              "<table border=\"1\" class=\"dataframe\">\n",
              "  <thead>\n",
              "    <tr style=\"text-align: right;\">\n",
              "      <th></th>\n",
              "      <th>0</th>\n",
              "      <th>57</th>\n",
              "      <th>31</th>\n",
              "      <th>68</th>\n",
              "      <th>72</th>\n",
              "      <th>90</th>\n",
              "      <th>100</th>\n",
              "      <th>100.1</th>\n",
              "      <th>76</th>\n",
              "      <th>75</th>\n",
              "      <th>50</th>\n",
              "      <th>51</th>\n",
              "      <th>28</th>\n",
              "      <th>25</th>\n",
              "      <th>16</th>\n",
              "      <th>0</th>\n",
              "    </tr>\n",
              "  </thead>\n",
              "  <tbody>\n",
              "    <tr>\n",
              "      <th>0</th>\n",
              "      <td>1.740357</td>\n",
              "      <td>-0.169176</td>\n",
              "      <td>0.823685</td>\n",
              "      <td>0.852195</td>\n",
              "      <td>-0.731773</td>\n",
              "      <td>0.410254</td>\n",
              "      <td>0.909325</td>\n",
              "      <td>0.780715</td>\n",
              "      <td>1.283469</td>\n",
              "      <td>0.994580</td>\n",
              "      <td>0.998886</td>\n",
              "      <td>-0.462324</td>\n",
              "      <td>-0.026492</td>\n",
              "      <td>-1.076323</td>\n",
              "      <td>-1.148266</td>\n",
              "      <td>-0.385986</td>\n",
              "    </tr>\n",
              "    <tr>\n",
              "      <th>1</th>\n",
              "      <td>-1.155795</td>\n",
              "      <td>-0.536774</td>\n",
              "      <td>-0.827242</td>\n",
              "      <td>0.804650</td>\n",
              "      <td>0.657163</td>\n",
              "      <td>1.288643</td>\n",
              "      <td>0.614335</td>\n",
              "      <td>0.948054</td>\n",
              "      <td>-0.720453</td>\n",
              "      <td>0.487264</td>\n",
              "      <td>-1.490738</td>\n",
              "      <td>-0.644270</td>\n",
              "      <td>-0.377090</td>\n",
              "      <td>-1.076323</td>\n",
              "      <td>1.275019</td>\n",
              "      <td>1.181738</td>\n",
              "    </tr>\n",
              "    <tr>\n",
              "      <th>2</th>\n",
              "      <td>-0.804746</td>\n",
              "      <td>-0.326718</td>\n",
              "      <td>-0.789721</td>\n",
              "      <td>-0.954490</td>\n",
              "      <td>0.834474</td>\n",
              "      <td>-0.907330</td>\n",
              "      <td>-0.041198</td>\n",
              "      <td>-1.495086</td>\n",
              "      <td>-1.634006</td>\n",
              "      <td>-0.636079</td>\n",
              "      <td>-1.626043</td>\n",
              "      <td>1.029628</td>\n",
              "      <td>-1.385058</td>\n",
              "      <td>1.882019</td>\n",
              "      <td>1.275019</td>\n",
              "      <td>1.965600</td>\n",
              "    </tr>\n",
              "    <tr>\n",
              "      <th>3</th>\n",
              "      <td>-1.155795</td>\n",
              "      <td>0.776075</td>\n",
              "      <td>-0.189384</td>\n",
              "      <td>-1.905377</td>\n",
              "      <td>0.893578</td>\n",
              "      <td>0.739650</td>\n",
              "      <td>0.548782</td>\n",
              "      <td>-0.089444</td>\n",
              "      <td>-0.013186</td>\n",
              "      <td>-1.252106</td>\n",
              "      <td>-0.949515</td>\n",
              "      <td>-0.462324</td>\n",
              "      <td>-0.201791</td>\n",
              "      <td>0.040602</td>\n",
              "      <td>1.275019</td>\n",
              "      <td>0.061935</td>\n",
              "    </tr>\n",
              "    <tr>\n",
              "      <th>4</th>\n",
              "      <td>-0.307427</td>\n",
              "      <td>0.408477</td>\n",
              "      <td>-1.315016</td>\n",
              "      <td>-1.192212</td>\n",
              "      <td>0.479852</td>\n",
              "      <td>-0.943930</td>\n",
              "      <td>-0.696732</td>\n",
              "      <td>-1.495086</td>\n",
              "      <td>0.723550</td>\n",
              "      <td>-0.563605</td>\n",
              "      <td>-1.544860</td>\n",
              "      <td>1.320740</td>\n",
              "      <td>-0.683863</td>\n",
              "      <td>1.851832</td>\n",
              "      <td>1.275019</td>\n",
              "      <td>1.965600</td>\n",
              "    </tr>\n",
              "  </tbody>\n",
              "</table>\n",
              "</div>\n",
              "      <button class=\"colab-df-convert\" onclick=\"convertToInteractive('df-dfeac443-895c-4982-bae2-9d945fd87008')\"\n",
              "              title=\"Convert this dataframe to an interactive table.\"\n",
              "              style=\"display:none;\">\n",
              "        \n",
              "  <svg xmlns=\"http://www.w3.org/2000/svg\" height=\"24px\"viewBox=\"0 0 24 24\"\n",
              "       width=\"24px\">\n",
              "    <path d=\"M0 0h24v24H0V0z\" fill=\"none\"/>\n",
              "    <path d=\"M18.56 5.44l.94 2.06.94-2.06 2.06-.94-2.06-.94-.94-2.06-.94 2.06-2.06.94zm-11 1L8.5 8.5l.94-2.06 2.06-.94-2.06-.94L8.5 2.5l-.94 2.06-2.06.94zm10 10l.94 2.06.94-2.06 2.06-.94-2.06-.94-.94-2.06-.94 2.06-2.06.94z\"/><path d=\"M17.41 7.96l-1.37-1.37c-.4-.4-.92-.59-1.43-.59-.52 0-1.04.2-1.43.59L10.3 9.45l-7.72 7.72c-.78.78-.78 2.05 0 2.83L4 21.41c.39.39.9.59 1.41.59.51 0 1.02-.2 1.41-.59l7.78-7.78 2.81-2.81c.8-.78.8-2.07 0-2.86zM5.41 20L4 18.59l7.72-7.72 1.47 1.35L5.41 20z\"/>\n",
              "  </svg>\n",
              "      </button>\n",
              "      \n",
              "  <style>\n",
              "    .colab-df-container {\n",
              "      display:flex;\n",
              "      flex-wrap:wrap;\n",
              "      gap: 12px;\n",
              "    }\n",
              "\n",
              "    .colab-df-convert {\n",
              "      background-color: #E8F0FE;\n",
              "      border: none;\n",
              "      border-radius: 50%;\n",
              "      cursor: pointer;\n",
              "      display: none;\n",
              "      fill: #1967D2;\n",
              "      height: 32px;\n",
              "      padding: 0 0 0 0;\n",
              "      width: 32px;\n",
              "    }\n",
              "\n",
              "    .colab-df-convert:hover {\n",
              "      background-color: #E2EBFA;\n",
              "      box-shadow: 0px 1px 2px rgba(60, 64, 67, 0.3), 0px 1px 3px 1px rgba(60, 64, 67, 0.15);\n",
              "      fill: #174EA6;\n",
              "    }\n",
              "\n",
              "    [theme=dark] .colab-df-convert {\n",
              "      background-color: #3B4455;\n",
              "      fill: #D2E3FC;\n",
              "    }\n",
              "\n",
              "    [theme=dark] .colab-df-convert:hover {\n",
              "      background-color: #434B5C;\n",
              "      box-shadow: 0px 1px 3px 1px rgba(0, 0, 0, 0.15);\n",
              "      filter: drop-shadow(0px 1px 2px rgba(0, 0, 0, 0.3));\n",
              "      fill: #FFFFFF;\n",
              "    }\n",
              "  </style>\n",
              "\n",
              "      <script>\n",
              "        const buttonEl =\n",
              "          document.querySelector('#df-dfeac443-895c-4982-bae2-9d945fd87008 button.colab-df-convert');\n",
              "        buttonEl.style.display =\n",
              "          google.colab.kernel.accessAllowed ? 'block' : 'none';\n",
              "\n",
              "        async function convertToInteractive(key) {\n",
              "          const element = document.querySelector('#df-dfeac443-895c-4982-bae2-9d945fd87008');\n",
              "          const dataTable =\n",
              "            await google.colab.kernel.invokeFunction('convertToInteractive',\n",
              "                                                     [key], {});\n",
              "          if (!dataTable) return;\n",
              "\n",
              "          const docLinkHtml = 'Like what you see? Visit the ' +\n",
              "            '<a target=\"_blank\" href=https://colab.research.google.com/notebooks/data_table.ipynb>data table notebook</a>'\n",
              "            + ' to learn more about interactive tables.';\n",
              "          element.innerHTML = '';\n",
              "          dataTable['output_type'] = 'display_data';\n",
              "          await google.colab.output.renderOutput(dataTable, element);\n",
              "          const docLink = document.createElement('div');\n",
              "          docLink.innerHTML = docLinkHtml;\n",
              "          element.appendChild(docLink);\n",
              "        }\n",
              "      </script>\n",
              "    </div>\n",
              "  </div>\n",
              "  "
            ],
            "text/plain": [
              "          0        57        31  ...        25        16         0\n",
              "0  1.740357 -0.169176  0.823685  ... -1.076323 -1.148266 -0.385986\n",
              "1 -1.155795 -0.536774 -0.827242  ... -1.076323  1.275019  1.181738\n",
              "2 -0.804746 -0.326718 -0.789721  ...  1.882019  1.275019  1.965600\n",
              "3 -1.155795  0.776075 -0.189384  ...  0.040602  1.275019  0.061935\n",
              "4 -0.307427  0.408477 -1.315016  ...  1.851832  1.275019  1.965600\n",
              "\n",
              "[5 rows x 16 columns]"
            ]
          },
          "metadata": {},
          "execution_count": 169
        }
      ]
    },
    {
      "cell_type": "code",
      "source": [
        "df.plot.box(figsize=(20,10),xticks=[])\n",
        "plt.xlabel('Frequency bin')\n",
        "plt.ylabel('Density')"
      ],
      "metadata": {
        "colab": {
          "base_uri": "https://localhost:8080/",
          "height": 578
        },
        "id": "UISO_Qzb61dh",
        "outputId": "1bbac1f5-617a-4fec-bc01-7bcf876f2e7d"
      },
      "execution_count": null,
      "outputs": [
        {
          "output_type": "execute_result",
          "data": {
            "text/plain": [
              "Text(0, 0.5, 'Density')"
            ]
          },
          "metadata": {},
          "execution_count": 170
        },
        {
          "output_type": "display_data",
          "data": {
            "image/png": "[encoded data removed]",
            "text/plain": [
              "<Figure size 1440x720 with 1 Axes>"
            ]
          },
          "metadata": {
            "needs_background": "light"
          }
        }
      ]
    },
    {
      "cell_type": "markdown",
      "source": [
        "####Train and test spliting (80% as train 20% as test data)"
      ],
      "metadata": {
        "id": "mJSpdDcW5vGN"
      }
    },
    {
      "cell_type": "code",
      "source": [
        "from sklearn.model_selection import train_test_split\n"
      ],
      "metadata": {
        "id": "vOyIkJbyqTyM"
      },
      "execution_count": null,
      "outputs": []
    },
    {
      "cell_type": "markdown",
      "source": [
        "Using scalled features as "
      ],
      "metadata": {
        "id": "xQem9U5Q6THm"
      }
    },
    {
      "cell_type": "code",
      "source": [
        "x_train,x_test,y_train,y_test=train_test_split(x_scaled_features,y,train_size=0.80,test_size=0.20)"
      ],
      "metadata": {
        "id": "S-nVVohDqlOD"
      },
      "execution_count": null,
      "outputs": []
    },
    {
      "cell_type": "markdown",
      "source": [
        "####KNN"
      ],
      "metadata": {
        "id": "5I8fQvIutJBq"
      }
    },
    {
      "cell_type": "markdown",
      "source": [
        "**KNN** algorithm follows three different Distance measurements of data points.\n",
        "\n",
        "\n",
        "1. Euclidean Distance\n",
        "2. Manhattan Distance\n",
        "3. Minkowski  Distance\n",
        "\n",
        "\n",
        "\n",
        "\n"
      ],
      "metadata": {
        "id": "LoBspgqBVY2Z"
      }
    },
    {
      "cell_type": "code",
      "source": [
        "from sklearn.neighbors import KNeighborsClassifier\n",
        "\n"
      ],
      "metadata": {
        "id": "JoHVrxghtIw-"
      },
      "execution_count": null,
      "outputs": []
    },
    {
      "cell_type": "markdown",
      "source": [
        "In this method we used  MINKOWSKI DISTANCE to find the nearest neighbour\n",
        "\n",
        "![image.png](data:image/png;base64,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)"
      ],
      "metadata": {
        "id": "2Mq6rceFWI2R"
      }
    },
    {
      "cell_type": "markdown",
      "source": [
        "As mentioned in guide we used the metric as minkowski ,nearest neighbour as 5 and p value as 2"
      ],
      "metadata": {
        "id": "EdMnXLpk7qg2"
      }
    },
    {
      "cell_type": "code",
      "source": [
        "knn = KNeighborsClassifier(n_neighbors=5, metric = 'minkowski', p = 2)"
      ],
      "metadata": {
        "id": "hOQCVZMktIvP"
      },
      "execution_count": null,
      "outputs": []
    },
    {
      "cell_type": "code",
      "source": [
        "knn.fit(x_train,y_train)"
      ],
      "metadata": {
        "colab": {
          "base_uri": "https://localhost:8080/"
        },
        "id": "VnWjrER3tItO",
        "outputId": "a77db156-f9d1-488c-8f79-195522f91073"
      },
      "execution_count": null,
      "outputs": [
        {
          "output_type": "execute_result",
          "data": {
            "text/plain": [
              "KNeighborsClassifier()"
            ]
          },
          "metadata": {},
          "execution_count": 175
        }
      ]
    },
    {
      "cell_type": "code",
      "source": [
        "pred = knn.predict(x_test)\n",
        "knn.score(x_test,y_test)"
      ],
      "metadata": {
        "colab": {
          "base_uri": "https://localhost:8080/"
        },
        "id": "rv_JQYSpt48W",
        "outputId": "91492821-af9f-4f57-c97b-2996d5bf1c1f"
      },
      "execution_count": null,
      "outputs": [
        {
          "output_type": "execute_result",
          "data": {
            "text/plain": [
              "0.9654388358344702"
            ]
          },
          "metadata": {},
          "execution_count": 176
        }
      ]
    },
    {
      "cell_type": "markdown",
      "source": [
        "####Predictions and Evaluations"
      ],
      "metadata": {
        "id": "-5svkWXJyi1T"
      }
    },
    {
      "cell_type": "code",
      "source": [
        "from sklearn.metrics import classification_report,confusion_matrix\n",
        "from sklearn.model_selection import cross_val_score\n"
      ],
      "metadata": {
        "id": "vD23iVtzynmc"
      },
      "execution_count": null,
      "outputs": []
    },
    {
      "cell_type": "code",
      "source": [
        "print(confusion_matrix(y_test,pred))\n"
      ],
      "metadata": {
        "colab": {
          "base_uri": "https://localhost:8080/"
        },
        "id": "qExMH71fytaO",
        "outputId": "0db98744-3387-447b-efad-6e74704e9b65"
      },
      "execution_count": null,
      "outputs": [
        {
          "output_type": "stream",
          "name": "stdout",
          "text": [
            "[[225   0   0   0   1   0   1   0   0   0]\n",
            " [  0 213  16   4   0   0   2   4   0   0]\n",
            " [  0   3 227   0   0   0   0   0   0   0]\n",
            " [  0   2   0 203   1   0   0   1   0   0]\n",
            " [  1   1   0   1 211   2   2   0   0   2]\n",
            " [  0   0   0   4   0 194   0   0   2   3]\n",
            " [  0   0   1   0   2   0 231   0   0   1]\n",
            " [  0   0   1   1   0   0   0 242   1   1]\n",
            " [  3   0   0   0   0   1   0   1 187   1]\n",
            " [  0   2   0   1   0   4   0   1   1 190]]\n"
          ]
        }
      ]
    },
    {
      "cell_type": "code",
      "source": [
        "plt.figure(figsize=(8,6))\n",
        "pred = knn.predict(x_test)\n",
        "cf_matrix = confusion_matrix(y_test,pred)\n",
        "sns.heatmap(cf_matrix/np.sum(cf_matrix), annot=True, \n",
        "            fmt='.2%', cmap='Purples');"
      ],
      "metadata": {
        "colab": {
          "base_uri": "https://localhost:8080/",
          "height": 374
        },
        "id": "JG3hPT7hqWy-",
        "outputId": "01e4dd23-1468-464e-9905-cf2974800122"
      },
      "execution_count": null,
      "outputs": [
        {
          "output_type": "display_data",
          "data": {
            "image/png": "[encoded data removed]",
            "text/plain": [
              "<Figure size 576x432 with 2 Axes>"
            ]
          },
          "metadata": {
            "needs_background": "light"
          }
        }
      ]
    },
    {
      "cell_type": "code",
      "source": [
        "print(classification_report(y_test,pred))"
      ],
      "metadata": {
        "colab": {
          "base_uri": "https://localhost:8080/"
        },
        "id": "2AgK0mgj1Tzh",
        "outputId": "796b09f1-573f-4585-821c-d75394efb37c"
      },
      "execution_count": null,
      "outputs": [
        {
          "output_type": "stream",
          "name": "stdout",
          "text": [
            "              precision    recall  f1-score   support\n",
            "\n",
            "           0       0.98      0.99      0.99       227\n",
            "           1       0.96      0.89      0.93       239\n",
            "           2       0.93      0.99      0.96       230\n",
            "           3       0.95      0.98      0.96       207\n",
            "           4       0.98      0.96      0.97       220\n",
            "           5       0.97      0.96      0.96       203\n",
            "           6       0.98      0.98      0.98       235\n",
            "           7       0.97      0.98      0.98       246\n",
            "           8       0.98      0.97      0.97       193\n",
            "           9       0.96      0.95      0.96       199\n",
            "\n",
            "    accuracy                           0.97      2199\n",
            "   macro avg       0.97      0.97      0.97      2199\n",
            "weighted avg       0.97      0.97      0.97      2199\n",
            "\n"
          ]
        }
      ]
    },
    {
      "cell_type": "markdown",
      "source": [
        "####ROC AND AUC"
      ],
      "metadata": {
        "id": "8b3mHkG0b7g8"
      }
    },
    {
      "cell_type": "markdown",
      "source": [
        "The ROC curve plots the FPR on the X-axis and the TPR on the Y-axis.\n",
        "\n",
        "![image.png](data:image/png;base64,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)"
      ],
      "metadata": {
        "id": "imJVUhNqbC63"
      }
    },
    {
      "cell_type": "code",
      "source": [
        "from sklearn.metrics import roc_curve, roc_auc_score\n"
      ],
      "metadata": {
        "id": "qoQa9jG4PM16"
      },
      "execution_count": null,
      "outputs": []
    },
    {
      "cell_type": "code",
      "source": [
        "#prediction probablities\n",
        "knn_probs = knn.predict_proba(x_test)\n"
      ],
      "metadata": {
        "id": "qhIMTgO1QUrW"
      },
      "execution_count": null,
      "outputs": []
    },
    {
      "cell_type": "code",
      "source": [
        "knn_probs = knn_probs[:, 1]"
      ],
      "metadata": {
        "id": "Vq57FbjiRZfs"
      },
      "execution_count": null,
      "outputs": []
    },
    {
      "cell_type": "code",
      "source": [
        "#Computing AUROC and ROC curve values \n",
        "from sklearn.metrics import roc_curve, roc_auc_score\n",
        "a=roc_auc_score(y_test,knn_probs,multi_class='ovo')"
      ],
      "metadata": {
        "id": "G-MzlrIiRiL1"
      },
      "execution_count": null,
      "outputs": []
    },
    {
      "cell_type": "code",
      "source": [
        "print(f'ROC-AUC score: {a}')"
      ],
      "metadata": {
        "colab": {
          "base_uri": "https://localhost:8080/"
        },
        "id": "85TJ7kwPsJGM",
        "outputId": "034b2956-6cfc-4366-acea-4cb6ab190d06"
      },
      "execution_count": null,
      "outputs": [
        {
          "output_type": "stream",
          "name": "stdout",
          "text": [
            "ROC-AUC score: 0.9949399683748859\n"
          ]
        }
      ]
    },
    {
      "cell_type": "code",
      "source": [
        "x_train,x_test,y_train,y_test=train_test_split(x_pca,y,train_size=0.80,test_size=0.20)"
      ],
      "metadata": {
        "id": "_xPz_X6R6pp3"
      },
      "execution_count": null,
      "outputs": []
    },
    {
      "cell_type": "code",
      "source": [
        "knn = KNeighborsClassifier(n_neighbors=5, metric = 'minkowski', p = 2)\n",
        "knn.fit(x_train,y_train)"
      ],
      "metadata": {
        "colab": {
          "base_uri": "https://localhost:8080/"
        },
        "id": "FZpcYFaU_f8m",
        "outputId": "f55df347-0085-47f9-d490-b7bdcd3c3b54"
      },
      "execution_count": null,
      "outputs": [
        {
          "output_type": "execute_result",
          "data": {
            "text/plain": [
              "KNeighborsClassifier()"
            ]
          },
          "metadata": {},
          "execution_count": 197
        }
      ]
    },
    {
      "cell_type": "code",
      "source": [
        "pred = knn.predict(x_test)\n",
        "knn.score(x_test,y_test)"
      ],
      "metadata": {
        "colab": {
          "base_uri": "https://localhost:8080/"
        },
        "id": "d5KIfL41_r0c",
        "outputId": "e72466b7-94e1-45e3-e6b1-b222a373bba3"
      },
      "execution_count": null,
      "outputs": [
        {
          "output_type": "execute_result",
          "data": {
            "text/plain": [
              "0.954524783992724"
            ]
          },
          "metadata": {},
          "execution_count": 198
        }
      ]
    },
    {
      "cell_type": "code",
      "source": [
        "pred = knn.predict(x_test)\n"
      ],
      "metadata": {
        "id": "kcjwl4wu_9QA"
      },
      "execution_count": null,
      "outputs": []
    },
    {
      "cell_type": "code",
      "source": [
        "print(\"prediction are:\",*pred)\n",
        "print(\"Actual values:\",*y_test.tolist())"
      ],
      "metadata": {
        "colab": {
          "base_uri": "https://localhost:8080/"
        },
        "id": "aAUJqynfsrQT",
        "outputId": "76177555-4966-4dbd-b676-c0c1d9a0b2e5"
      },
      "execution_count": null,
      "outputs": [
        {
          "output_type": "stream",
          "name": "stdout",
          "text": [
            "prediction are: 7 1 8 7 6 7 6 5 0 0 0 9 6 4 3 6 5 8 7 8 1 9 0 1 5 8 9 2 7 6 0 9 2 4 2 2 9 5 4 0 9 3 5 8 4 0 9 3 4 7 9 6 0 7 9 2 1 8 7 7 0 8 9 1 0 5 3 9 4 1 2 4 7 2 7 8 9 3 8 1 4 2 2 0 2 0 7 4 7 6 4 0 9 2 1 3 5 8 9 4 8 6 3 3 8 2 6 0 4 2 3 0 1 3 9 6 2 6 3 7 7 7 2 1 6 1 2 0 5 0 6 6 6 1 4 6 3 8 1 3 3 2 2 6 9 2 5 8 8 4 9 9 2 2 2 2 3 4 8 5 8 0 3 5 8 2 5 5 4 9 3 6 7 6 3 0 1 4 4 1 8 2 1 2 6 2 1 1 5 8 5 1 9 7 2 6 3 9 2 6 8 9 3 8 0 6 1 3 9 8 5 8 3 0 4 0 4 2 9 8 9 1 6 8 3 0 2 8 7 2 5 2 9 6 9 8 4 2 6 6 6 2 3 8 7 9 3 8 9 4 0 8 8 2 0 8 2 0 6 7 9 7 2 6 2 1 2 4 7 9 4 4 7 4 0 8 9 2 8 1 6 1 7 3 8 7 1 5 3 6 2 3 9 0 3 4 7 8 1 6 4 3 5 8 9 7 0 6 8 7 3 0 6 1 8 9 2 3 7 6 9 9 5 2 1 3 0 5 9 7 0 7 1 2 7 7 6 6 6 1 0 4 9 8 3 0 7 0 1 6 9 6 0 2 2 0 8 1 5 5 4 3 6 1 5 9 9 5 2 1 0 0 9 7 7 2 3 3 5 4 2 5 5 4 2 4 9 9 0 0 0 5 3 9 1 9 0 2 2 2 3 1 7 3 7 6 7 8 9 6 3 7 3 4 5 6 4 5 4 3 1 6 8 4 0 9 6 3 7 2 0 4 2 1 0 1 2 0 9 2 1 4 7 8 5 3 6 1 3 5 7 7 1 4 6 7 8 1 0 8 2 3 1 4 2 8 8 5 4 1 0 0 7 9 6 3 5 4 5 3 4 5 9 3 8 6 8 7 4 7 7 5 7 1 7 7 4 8 0 3 5 5 3 0 4 6 3 7 8 2 1 0 2 7 9 5 7 6 7 4 5 8 7 4 3 8 4 1 9 0 9 7 8 8 5 5 5 1 7 8 3 4 7 2 4 2 0 1 7 8 9 2 9 4 4 3 1 5 3 8 1 2 1 8 6 6 0 0 8 3 8 1 1 7 0 2 2 0 3 7 7 8 5 5 8 3 8 7 1 2 3 7 0 0 8 9 6 5 6 2 2 6 7 5 2 0 6 1 2 5 5 2 5 3 4 7 6 4 4 9 1 9 4 0 8 8 7 4 2 7 8 1 0 3 8 6 9 9 6 7 0 5 8 3 3 0 2 2 7 7 4 7 4 4 4 5 5 8 5 5 4 3 0 4 6 8 4 8 9 8 9 4 5 7 7 9 3 4 8 6 2 8 7 7 4 2 3 7 6 6 3 6 3 6 8 1 0 7 4 0 1 7 6 1 6 7 2 6 4 5 0 3 7 3 9 7 1 8 6 0 0 3 5 2 4 5 8 4 3 1 4 8 5 6 4 5 4 1 9 2 2 1 9 3 0 6 6 1 0 3 4 0 8 7 1 4 4 6 7 9 7 2 6 7 3 6 0 2 7 6 2 3 4 2 8 1 1 9 0 9 3 7 9 3 3 4 5 2 2 7 1 4 8 6 4 2 5 6 1 3 6 9 0 6 5 7 2 3 2 3 1 0 8 7 8 1 9 4 3 4 7 1 0 9 9 2 6 1 5 1 1 8 9 8 2 7 1 4 3 0 7 0 9 6 2 7 6 1 4 2 0 2 0 6 9 1 3 5 8 8 4 7 0 4 6 7 4 3 8 0 8 1 4 5 9 9 6 3 2 0 9 4 4 5 0 1 2 8 7 0 4 5 6 3 9 0 6 2 5 4 5 7 7 0 1 1 1 5 6 3 2 6 2 0 2 5 7 2 2 4 3 6 1 4 6 1 1 5 8 3 2 0 2 1 9 5 7 9 1 7 8 3 6 2 5 8 5 6 6 7 4 9 5 0 6 2 9 4 2 1 4 7 9 4 2 2 5 7 5 5 2 6 2 7 4 0 3 9 0 2 0 2 9 6 0 0 1 7 0 1 0 0 5 1 5 2 3 0 4 4 6 4 3 7 7 9 7 0 7 7 0 8 6 3 3 2 0 3 4 6 3 0 5 1 8 4 1 9 0 7 9 0 6 1 8 9 8 1 7 7 2 3 2 9 2 3 5 8 3 3 7 3 6 8 8 6 2 9 8 8 2 5 9 6 1 1 2 4 2 7 1 7 5 3 3 1 7 5 3 8 1 2 1 0 5 0 0 1 9 6 7 8 2 3 6 9 8 0 8 6 9 6 6 0 4 1 0 8 0 7 8 5 2 9 1 8 0 7 2 0 9 5 9 9 6 2 3 7 6 7 6 7 1 5 2 1 9 3 3 6 8 7 6 9 7 3 5 3 1 4 8 4 2 0 2 0 9 5 2 9 9 2 0 8 9 3 7 4 2 2 2 1 1 1 0 4 4 3 6 9 3 7 3 7 5 1 9 7 4 0 9 5 0 2 3 7 1 1 1 7 1 0 8 4 9 7 4 7 6 0 8 4 5 3 2 2 4 7 6 6 6 4 9 2 8 6 1 9 4 2 5 6 0 1 0 6 8 0 3 7 2 3 5 1 0 9 9 1 4 7 4 4 5 9 2 1 2 2 6 2 0 3 5 0 4 8 3 4 3 6 4 9 0 5 9 0 8 3 1 2 5 3 1 4 8 4 1 8 0 8 6 1 6 6 6 0 3 1 8 5 9 0 7 7 5 7 3 1 8 5 6 4 0 5 0 8 4 0 0 9 1 3 2 4 2 7 9 6 3 7 8 8 1 3 2 7 1 5 2 4 0 6 5 9 5 6 0 6 4 0 4 5 1 6 8 3 7 2 2 4 5 0 3 2 0 2 8 8 6 1 4 1 6 2 0 4 5 6 2 9 7 6 6 2 9 9 2 5 5 5 6 3 1 3 3 5 0 1 1 4 4 1 1 2 3 1 9 6 5 5 5 7 6 6 6 9 0 5 6 3 6 3 5 6 7 9 2 9 3 5 5 0 9 6 8 6 6 1 8 4 7 8 8 8 0 2 7 8 3 8 0 7 5 0 7 9 3 6 4 3 5 0 9 3 1 4 2 5 8 0 2 3 1 7 1 8 9 5 1 9 5 2 0 5 5 0 8 8 8 2 4 5 7 8 1 6 2 5 2 9 7 3 8 4 1 7 3 3 6 9 0 3 4 2 2 3 9 0 3 0 1 0 7 3 8 8 1 5 4 4 6 1 4 1 1 8 6 1 5 3 2 3 5 2 9 0 4 4 0 3 2 2 1 2 3 5 2 3 2 8 0 0 4 3 9 8 4 3 7 5 5 8 1 7 5 6 0 6 7 6 3 2 9 1 4 3 9 4 9 4 7 1 2 4 5 4 7 3 4 7 7 1 1 4 7 6 0 1 8 2 6 6 8 6 0 5 1 6 7 1 2 0 3 6 7 7 0 6 9 4 4 5 3 8 7 3 0 6 2 6 2 6 0 0 0 5 3 0 7 5 0 6 8 0 0 2 2 9 3 3 9 8 9 5 5 3 4 4 8 6 2 5 0 8 4 5 7 7 1 8 9 9 0 0 5 9 1 8 2 7 0 9 5 0 1 0 3 3 2 9 9 5 0 8 6 9 5 2 3 9 2 6 0 7 6 9 6 6 7 8 3 2 0 0 0 3 2 8 4 6 2 1 9 3 4 4 8 4 4 9 8 5 8 8 4 7 0 7 0 9 0 6 4 2 8 9 6 0 1 0 8 1 3 3 2 4 0 4 0 9 0 2 3 1 3 7 7 2 6 9 7 0 4 4 4 8 2 3 3 9 9 8 0 0 4 9 6 7 1 0 0 7 8 3 0 3 4 6 0 3 8 9 3 4 0 5 0 1 4 7 1 9 0 1 7 0 0 3 5 4 2 8 4 9 3 2 3 2 9 8 3 9 3 9 4 3 1 4 7 9 9 7 3 6 3 7 7 4 9 8 8 9 1 9 0 7 7 8 9 3 1 4 1 0 8 4 0 5 9 2 7 0 0 5 1 0 3 2 4 6 8 5 7 7 1 7 5 0 4 3 6 5 1 8 2 2 0 4 5 7 6 7 7 1 2 9 1 4 4 1 7 2 4 0 7 4 1 5 8 6 2 1 5 1 7 2 7 0 2 1 8 0 4 6 8 0 3 5 4 0 6 9 3 8 6 3 6 9 3 6 1 6 1 4 8 3 1 7 4 3 1 6 5 0 5 5 7 0 2 8 2 7 3 4 7 9 0 9 6 0 4 0 5 1 2 4 8 1 1 4 7 0 6 9 6 0 8 1 3 7 2 2 1 3 1 7 9 6 9 1 0 3 5 9 0 8 4 5 5 5 4 3 4 2 5 2 1 4 8 1 0 8 8 0 7 9 0 2 0 6 6 3 0 7 9 9 6 3 2 5 8 5 3 1 6 3 2 7 6 3 0 2 4 9 4 4 5 4 9 6 4 5 2 3 4 3 8 3 7 5 0 0 0 2 3 6 5 8 8 8 1 5 8 7 1 8 3 4 6 9 2 3 4 9 9 2 3 5 1 4 2 5 6 1 1 7 7 9 5 0 8 3 2 6 9 0 8 2 5 8 6 8 3 3 7 2 4 0 9 9 1 8 2 9 0 9 5 9 1 4 9 5 4 3 0 8 1 5 4 0 3 1 9 0 4 4 7 1 7 2 1 2 8 5 3 5 2 7 0 0 1 6 6 3 8 5 1 9 0\n",
            "Actual values: 7 1 8 7 6 7 6 5 0 0 0 9 6 4 3 6 5 8 7 8 1 9 0 1 5 8 9 2 7 6 0 9 2 4 2 2 9 5 9 0 9 3 5 8 4 0 9 3 4 1 9 6 0 7 9 2 2 8 7 7 0 8 9 1 0 5 3 4 4 1 2 4 7 2 7 8 9 3 8 1 4 2 2 0 2 0 7 4 7 6 4 0 9 2 2 3 5 8 9 4 8 6 3 3 8 2 6 0 4 2 3 0 1 3 5 6 2 6 3 7 7 7 2 1 6 1 2 0 5 0 6 6 6 1 4 6 3 8 1 3 3 2 2 6 9 2 5 8 8 4 9 9 2 2 2 2 3 4 8 5 8 0 3 5 8 2 5 5 4 9 3 6 7 6 3 0 1 4 4 1 8 2 1 2 6 2 1 1 5 8 5 1 9 7 2 6 3 9 2 6 8 9 3 8 0 6 1 3 9 8 5 8 3 0 4 0 4 2 9 8 9 1 6 8 8 0 2 8 7 2 5 1 9 6 9 8 4 2 6 6 6 2 3 8 7 9 5 8 9 4 0 8 8 2 0 8 2 0 6 7 9 7 2 6 1 1 2 4 7 9 4 0 7 4 0 8 9 2 8 1 6 1 7 3 8 7 1 5 3 6 2 3 9 0 3 4 7 8 1 6 4 3 9 8 9 7 0 6 8 7 3 0 6 1 8 9 2 3 7 6 9 9 5 2 1 5 0 5 9 7 0 7 1 2 7 7 6 6 6 1 0 4 9 8 3 0 7 0 1 6 9 6 0 2 2 0 8 1 5 5 4 3 6 1 5 9 9 5 2 7 0 0 9 7 7 2 3 3 5 4 2 5 5 4 2 4 9 1 0 0 0 5 3 9 1 9 0 2 2 2 3 1 7 3 7 6 7 8 9 6 3 7 3 4 5 6 4 5 4 3 1 6 8 4 0 9 6 3 7 2 0 4 2 1 8 1 2 0 9 2 1 4 7 8 5 3 6 1 3 5 7 7 1 4 6 7 8 3 0 8 2 3 1 4 2 8 8 5 4 1 9 0 7 9 6 3 5 4 5 3 4 5 9 3 8 6 8 7 4 7 7 5 7 1 7 7 4 8 0 3 5 5 3 0 4 6 3 7 8 2 1 0 2 7 9 5 7 6 7 4 5 8 1 4 3 8 4 1 9 0 9 7 8 8 5 5 5 1 7 8 3 4 7 2 4 2 0 1 8 8 9 1 9 0 4 3 1 5 3 8 1 2 1 8 6 6 0 0 8 3 8 2 7 7 0 2 2 0 3 7 7 8 5 5 8 3 8 7 1 2 3 7 0 0 8 1 6 5 6 2 1 6 7 5 2 0 6 1 2 5 5 2 5 3 4 7 6 4 4 9 1 9 4 0 8 8 7 4 2 7 8 1 0 3 8 6 9 9 6 7 0 5 8 3 5 0 2 2 7 7 9 7 4 4 4 5 5 8 5 5 4 5 0 4 6 8 4 8 9 8 9 4 5 7 7 9 3 4 8 6 2 8 7 7 4 2 3 7 6 6 3 6 3 6 8 1 0 7 4 0 7 7 6 1 6 7 2 6 4 5 0 7 7 3 5 7 9 8 6 0 0 3 5 2 4 5 8 4 3 9 4 8 5 6 4 5 4 5 9 2 2 1 5 3 0 6 6 1 0 3 4 0 7 7 1 4 4 6 7 9 7 2 6 7 3 6 0 2 7 6 2 3 4 2 8 1 1 9 0 9 3 7 9 3 3 4 5 1 2 7 1 4 8 6 4 2 5 6 1 3 6 9 0 6 5 7 2 3 2 3 1 0 8 7 8 2 9 4 3 4 7 1 0 9 9 2 6 1 5 1 1 8 9 8 2 7 1 4 3 0 7 0 9 6 2 7 6 1 4 2 0 2 0 6 9 2 3 5 8 5 4 7 0 4 6 7 6 3 8 0 8 1 4 5 9 9 6 1 2 0 9 7 4 5 0 1 2 8 8 0 4 5 6 3 9 0 6 2 5 4 5 7 7 0 1 1 1 5 6 3 2 6 2 0 2 5 7 2 2 4 3 6 1 4 6 1 1 5 8 3 2 0 2 1 9 1 7 9 1 7 8 3 6 2 7 8 5 6 6 7 4 9 5 0 6 2 9 4 2 1 4 7 9 4 2 2 5 7 5 5 2 6 2 7 4 0 3 9 0 2 0 2 9 6 0 0 1 7 0 1 0 0 6 1 9 2 3 0 4 4 6 4 3 7 7 9 7 0 7 7 0 8 6 3 3 2 0 3 4 6 3 0 5 1 8 4 1 9 0 7 9 0 6 1 8 9 8 1 7 7 2 3 2 9 2 3 5 8 3 3 7 3 6 8 8 6 2 3 8 8 2 5 9 6 1 1 2 4 2 7 1 9 5 3 3 1 7 5 3 8 1 2 1 0 5 0 0 1 9 6 7 8 2 3 6 9 8 0 8 6 9 6 6 0 4 1 0 8 0 7 8 5 2 9 5 8 6 7 2 0 9 5 9 9 6 2 3 7 6 4 6 7 1 9 2 1 9 3 3 6 8 7 6 9 7 3 5 3 1 4 8 4 2 0 2 0 9 5 2 9 9 2 0 8 9 3 7 4 2 2 2 1 7 1 0 4 4 3 7 9 3 7 3 7 5 1 9 7 4 0 9 5 6 2 5 7 1 1 1 7 1 0 8 4 9 7 4 7 6 0 8 4 5 3 4 2 4 7 6 6 6 4 9 2 8 6 1 9 4 2 5 6 0 1 0 6 8 0 3 7 2 3 5 1 0 9 9 1 4 7 4 4 5 9 2 1 2 1 6 2 0 3 5 0 4 8 3 4 3 6 4 9 0 5 9 0 8 3 1 2 8 3 1 4 8 4 1 8 0 8 6 1 6 6 6 0 3 7 8 5 9 0 7 7 5 7 3 1 8 5 6 4 0 5 0 8 4 0 0 9 7 3 2 4 2 7 9 6 3 7 8 8 1 3 2 7 1 5 2 4 0 6 5 9 5 6 0 6 4 0 4 5 1 6 8 3 7 2 2 4 5 0 3 2 0 2 8 8 6 1 4 1 6 2 0 4 8 6 2 9 7 6 6 2 9 9 7 5 5 5 4 3 1 3 3 5 0 1 1 4 9 1 1 2 3 7 9 6 5 5 5 7 6 6 6 9 0 5 6 3 6 3 5 6 7 9 2 9 3 5 5 0 9 6 8 6 6 1 8 4 7 8 8 8 0 2 7 8 3 8 0 7 5 0 7 9 3 6 4 3 5 0 9 3 1 4 2 5 8 0 2 3 1 7 1 8 9 5 1 9 5 2 0 5 5 0 8 8 8 2 4 5 7 8 1 6 2 5 2 9 7 3 8 4 1 7 3 1 6 9 0 3 4 1 2 3 9 0 3 0 1 0 7 3 8 8 7 5 4 0 6 1 4 1 1 8 6 1 5 1 1 3 5 2 9 0 4 4 0 3 2 2 1 2 3 5 2 3 2 8 0 0 4 3 9 8 4 3 7 5 5 8 1 7 5 6 0 6 7 6 3 2 9 1 4 3 9 4 9 4 7 1 2 4 5 4 7 3 4 7 7 1 1 4 7 6 0 1 8 2 6 6 8 6 0 8 1 6 7 1 2 0 3 6 7 7 0 6 9 4 4 5 3 8 7 1 0 6 2 6 2 6 0 0 0 5 3 0 7 5 0 6 8 0 0 1 2 9 3 3 9 8 9 9 5 3 4 4 8 6 2 5 0 8 4 5 7 7 1 8 9 9 0 0 9 9 1 8 2 7 0 9 5 0 1 0 2 1 2 9 9 5 0 8 6 9 5 2 5 9 2 6 0 7 6 9 6 6 7 8 3 1 0 0 0 3 2 8 4 6 2 1 9 3 4 4 8 9 4 9 8 5 8 8 4 7 0 7 0 9 0 6 4 2 8 9 6 0 1 0 8 1 3 3 2 4 0 4 0 9 0 2 3 1 5 7 8 2 6 9 7 0 4 4 4 8 2 3 1 9 9 8 0 0 4 9 6 7 1 0 0 7 8 3 0 3 4 6 0 3 8 9 3 4 0 5 0 1 4 7 1 9 0 1 7 0 0 3 5 4 2 8 4 9 5 2 3 2 9 8 3 9 3 9 4 3 1 4 7 9 9 7 3 6 3 7 7 4 9 8 8 9 7 9 0 7 7 8 9 3 1 4 1 0 8 4 0 5 9 2 7 0 0 5 1 0 3 2 4 6 8 5 7 7 1 7 5 0 4 3 6 5 2 8 2 2 0 4 5 7 6 7 7 1 2 9 1 4 4 1 7 2 4 0 7 4 1 5 8 6 2 1 5 1 7 2 7 0 2 1 8 0 4 6 8 0 3 5 4 0 6 9 3 8 6 3 6 9 3 6 1 6 1 4 8 5 1 7 4 3 1 6 5 0 5 5 7 0 2 8 2 7 3 4 7 9 0 9 6 0 4 0 5 1 2 4 8 1 1 5 8 0 6 9 6 0 8 1 3 7 2 2 1 3 1 7 9 6 9 3 0 3 5 9 0 8 4 5 5 5 4 3 4 2 5 2 1 4 8 1 0 8 8 0 7 9 0 2 0 6 6 3 0 7 9 9 6 1 2 5 8 5 3 1 6 3 2 7 6 3 0 2 4 9 4 4 5 4 9 6 4 5 2 3 4 3 8 3 7 5 0 0 0 2 3 6 5 8 8 8 1 5 8 7 1 8 3 4 6 9 7 3 4 9 9 2 3 5 1 4 2 5 6 1 1 7 7 9 5 0 8 3 2 6 9 0 8 2 5 8 6 8 3 3 7 2 4 0 9 9 1 8 2 9 0 9 9 9 2 4 9 5 4 3 0 8 1 5 4 0 3 1 9 0 4 4 7 1 7 2 1 2 8 5 3 5 2 7 6 0 1 6 6 3 8 5 1 9 0\n"
          ]
        }
      ]
    },
    {
      "cell_type": "markdown",
      "source": [
        "#**CONCLUSION**\n",
        "\n",
        "From the above cells we can conclude that applying PCA for the dataset will result in reduction of accuracy.\n",
        "so the standardized data without performing PCA is a good option for the KNN classification model"
      ],
      "metadata": {
        "id": "zKRd1zQTAB4o"
      }
    },
    {
      "cell_type": "markdown",
      "source": [
        "**Question 1]**  \n",
        "\n",
        "   The k-nearest neighbors method, how would you explain its use within the industry?\n",
        "\n",
        "\n",
        "**Answer**\n",
        "\n",
        "  The k-nearest neighbours is a supervised machine learning algorithm mostly used for classification and regression problems and some and some times KNN is also used for Recommendation systems. KNN will work by finding the nearest neighbour of the given input\n",
        "\n",
        "   Changing the values of K that is the number of nearest neighbours will result in good accuracy. we can find it by creating a for loop and iterate over each values and we can find the best value of K to develop a model with good accuracy\n",
        "\n",
        "\n",
        "\n",
        "  **KNN** algorithm follows three different Distance measurements of data points.\n",
        "\n",
        "\n",
        "1. Euclidean Distance\n",
        "2. Manhattan Distance\n",
        "3. Minkowski  Distance\n",
        "\n",
        "\n",
        " "
      ],
      "metadata": {
        "id": "1kDhlQwsXWYh"
      }
    },
    {
      "cell_type": "markdown",
      "source": [
        "**Question 2]**    \n",
        "Identify one software tool used to implement and test a k-nearest neighbors model. For this tool, provide a brief explanation of its use and purpose within a real-world scenario.\n",
        "\n",
        "**Answer**\n",
        "\n",
        "The software tool used for implementing the k-nearest neighbours algorithm is Scikit-Learn, a library from python. This library has inbuilt algorithms that can be accessed from the library with a function call of KNeighborsClassifier() with parameters such as the distance of the nearest neighbour and  method used to find the distance.\n",
        " \n",
        "The developed model can be tested with the help of a predict function in sklearn \n",
        "Its metrics can be predicted with the help of ROC curve which can be accessed with the help of sklearn library with the help of roc_auc_score() function in it.\n",
        "\n",
        "\n",
        "It is used to build the real world models faster and efficient with its pre built functions .some of the real-world applications are recommendation system, weather prediction etc..\n",
        "\n",
        "\n",
        "\n"
      ],
      "metadata": {
        "id": "pP7fcba7amf9"
      }
    }
  ]
}